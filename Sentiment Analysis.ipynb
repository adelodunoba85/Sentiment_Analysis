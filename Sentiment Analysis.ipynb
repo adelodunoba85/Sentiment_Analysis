{
 "cells": [
  {
   "cell_type": "markdown",
   "metadata": {},
   "source": [
    "## Web scraping and analysis"
   ]
  },
  {
   "cell_type": "code",
   "execution_count": 1,
   "metadata": {},
   "outputs": [
    {
     "name": "stdout",
     "output_type": "stream",
     "text": [
      "Requirement already satisfied: nltk in c:\\users\\intellect\\anaconda3\\envs\\tf20_py30\\lib\\site-packages (3.8.1)\n",
      "Requirement already satisfied: tqdm in c:\\users\\intellect\\anaconda3\\envs\\tf20_py30\\lib\\site-packages (from nltk) (4.64.1)\n",
      "Requirement already satisfied: joblib in c:\\users\\intellect\\anaconda3\\envs\\tf20_py30\\lib\\site-packages (from nltk) (1.3.2)\n",
      "Requirement already satisfied: click in c:\\users\\intellect\\anaconda3\\envs\\tf20_py30\\lib\\site-packages (from nltk) (8.1.3)\n",
      "Requirement already satisfied: regex>=2021.8.3 in c:\\users\\intellect\\anaconda3\\envs\\tf20_py30\\lib\\site-packages (from nltk) (2023.8.8)\n",
      "Requirement already satisfied: colorama in c:\\users\\intellect\\anaconda3\\envs\\tf20_py30\\lib\\site-packages (from click->nltk) (0.4.5)\n",
      "Note: you may need to restart the kernel to use updated packages.\n"
     ]
    },
    {
     "name": "stderr",
     "output_type": "stream",
     "text": [
      "WARNING: Ignoring invalid distribution -rotobuf (c:\\users\\intellect\\anaconda3\\envs\\tf20_py30\\lib\\site-packages)\n",
      "WARNING: Ignoring invalid distribution -rotobuf (c:\\users\\intellect\\anaconda3\\envs\\tf20_py30\\lib\\site-packages)\n",
      "WARNING: Ignoring invalid distribution -rotobuf (c:\\users\\intellect\\anaconda3\\envs\\tf20_py30\\lib\\site-packages)\n",
      "WARNING: Ignoring invalid distribution -rotobuf (c:\\users\\intellect\\anaconda3\\envs\\tf20_py30\\lib\\site-packages)\n",
      "WARNING: Ignoring invalid distribution -rotobuf (c:\\users\\intellect\\anaconda3\\envs\\tf20_py30\\lib\\site-packages)\n",
      "WARNING: Ignoring invalid distribution -rotobuf (c:\\users\\intellect\\anaconda3\\envs\\tf20_py30\\lib\\site-packages)\n"
     ]
    }
   ],
   "source": [
    "pip install nltk"
   ]
  },
  {
   "cell_type": "code",
   "execution_count": 2,
   "metadata": {},
   "outputs": [
    {
     "name": "stdout",
     "output_type": "stream",
     "text": [
      "Requirement already satisfied: gensim in c:\\users\\intellect\\anaconda3\\envs\\tf20_py30\\lib\\site-packages (4.3.1)Note: you may need to restart the kernel to use updated packages.\n"
     ]
    },
    {
     "name": "stderr",
     "output_type": "stream",
     "text": [
      "WARNING: Ignoring invalid distribution -rotobuf (c:\\users\\intellect\\anaconda3\\envs\\tf20_py30\\lib\\site-packages)\n",
      "WARNING: Ignoring invalid distribution -rotobuf (c:\\users\\intellect\\anaconda3\\envs\\tf20_py30\\lib\\site-packages)\n",
      "WARNING: Ignoring invalid distribution -rotobuf (c:\\users\\intellect\\anaconda3\\envs\\tf20_py30\\lib\\site-packages)\n",
      "WARNING: Ignoring invalid distribution -rotobuf (c:\\users\\intellect\\anaconda3\\envs\\tf20_py30\\lib\\site-packages)\n",
      "WARNING: Ignoring invalid distribution -rotobuf (c:\\users\\intellect\\anaconda3\\envs\\tf20_py30\\lib\\site-packages)\n",
      "WARNING: Ignoring invalid distribution -rotobuf (c:\\users\\intellect\\anaconda3\\envs\\tf20_py30\\lib\\site-packages)\n"
     ]
    },
    {
     "name": "stdout",
     "output_type": "stream",
     "text": [
      "\n",
      "Requirement already satisfied: smart-open>=1.8.1 in c:\\users\\intellect\\anaconda3\\envs\\tf20_py30\\lib\\site-packages (from gensim) (6.3.0)\n",
      "Requirement already satisfied: numpy>=1.18.5 in c:\\users\\intellect\\anaconda3\\envs\\tf20_py30\\lib\\site-packages (from gensim) (1.23.2)\n",
      "Requirement already satisfied: scipy>=1.7.0 in c:\\users\\intellect\\anaconda3\\envs\\tf20_py30\\lib\\site-packages (from gensim) (1.9.1)\n"
     ]
    }
   ],
   "source": [
    "pip install gensim"
   ]
  },
  {
   "cell_type": "code",
   "execution_count": 3,
   "metadata": {},
   "outputs": [
    {
     "name": "stdout",
     "output_type": "stream",
     "text": [
      "Requirement already satisfied: pyLDAvis in c:\\users\\intellect\\anaconda3\\envs\\tf20_py30\\lib\\site-packages (3.4.0)\n",
      "Requirement already satisfied: jinja2 in c:\\users\\intellect\\anaconda3\\envs\\tf20_py30\\lib\\site-packages (from pyLDAvis) (3.1.2)\n",
      "Requirement already satisfied: numexpr in c:\\users\\intellect\\anaconda3\\envs\\tf20_py30\\lib\\site-packages (from pyLDAvis) (2.8.5)\n",
      "Requirement already satisfied: funcy in c:\\users\\intellect\\anaconda3\\envs\\tf20_py30\\lib\\site-packages (from pyLDAvis) (2.0)\n",
      "Requirement already satisfied: pandas>=1.3.4 in c:\\users\\intellect\\anaconda3\\envs\\tf20_py30\\lib\\site-packages (from pyLDAvis) (1.4.4)\n",
      "Requirement already satisfied: scikit-learn>=1.0.0 in c:\\users\\intellect\\anaconda3\\envs\\tf20_py30\\lib\\site-packages (from pyLDAvis) (1.1.2)\n",
      "Requirement already satisfied: gensim in c:\\users\\intellect\\anaconda3\\envs\\tf20_py30\\lib\\site-packages (from pyLDAvis) (4.3.1)\n",
      "Requirement already satisfied: numpy>=1.22.0 in c:\\users\\intellect\\anaconda3\\envs\\tf20_py30\\lib\\site-packages (from pyLDAvis) (1.23.2)\n",
      "Requirement already satisfied: setuptools in c:\\users\\intellect\\anaconda3\\envs\\tf20_py30\\lib\\site-packages (from pyLDAvis) (61.2.0)\n",
      "Requirement already satisfied: scipy in c:\\users\\intellect\\anaconda3\\envs\\tf20_py30\\lib\\site-packages (from pyLDAvis) (1.9.1)\n",
      "Requirement already satisfied: joblib>=1.2.0 in c:\\users\\intellect\\anaconda3\\envs\\tf20_py30\\lib\\site-packages (from pyLDAvis) (1.3.2)\n",
      "Requirement already satisfied: pytz>=2020.1 in c:\\users\\intellect\\anaconda3\\envs\\tf20_py30\\lib\\site-packages (from pandas>=1.3.4->pyLDAvis) (2022.2.1)\n",
      "Requirement already satisfied: python-dateutil>=2.8.1 in c:\\users\\intellect\\anaconda3\\envs\\tf20_py30\\lib\\site-packages (from pandas>=1.3.4->pyLDAvis) (2.8.2)\n",
      "Requirement already satisfied: threadpoolctl>=2.0.0 in c:\\users\\intellect\\anaconda3\\envs\\tf20_py30\\lib\\site-packages (from scikit-learn>=1.0.0->pyLDAvis) (3.1.0)\n",
      "Requirement already satisfied: smart-open>=1.8.1 in c:\\users\\intellect\\anaconda3\\envs\\tf20_py30\\lib\\site-packages (from gensim->pyLDAvis) (6.3.0)\n",
      "Requirement already satisfied: MarkupSafe>=2.0 in c:\\users\\intellect\\anaconda3\\envs\\tf20_py30\\lib\\site-packages (from jinja2->pyLDAvis) (2.1.1)\n",
      "Requirement already satisfied: six>=1.5 in c:\\users\\intellect\\anaconda3\\envs\\tf20_py30\\lib\\site-packages (from python-dateutil>=2.8.1->pandas>=1.3.4->pyLDAvis) (1.16.0)\n",
      "Note: you may need to restart the kernel to use updated packages.\n"
     ]
    },
    {
     "name": "stderr",
     "output_type": "stream",
     "text": [
      "WARNING: Ignoring invalid distribution -rotobuf (c:\\users\\intellect\\anaconda3\\envs\\tf20_py30\\lib\\site-packages)\n",
      "WARNING: Ignoring invalid distribution -rotobuf (c:\\users\\intellect\\anaconda3\\envs\\tf20_py30\\lib\\site-packages)\n",
      "WARNING: Ignoring invalid distribution -rotobuf (c:\\users\\intellect\\anaconda3\\envs\\tf20_py30\\lib\\site-packages)\n",
      "WARNING: Ignoring invalid distribution -rotobuf (c:\\users\\intellect\\anaconda3\\envs\\tf20_py30\\lib\\site-packages)\n",
      "WARNING: Ignoring invalid distribution -rotobuf (c:\\users\\intellect\\anaconda3\\envs\\tf20_py30\\lib\\site-packages)\n",
      "WARNING: Ignoring invalid distribution -rotobuf (c:\\users\\intellect\\anaconda3\\envs\\tf20_py30\\lib\\site-packages)\n"
     ]
    }
   ],
   "source": [
    "pip install pyLDAvis\n"
   ]
  },
  {
   "cell_type": "code",
   "execution_count": 4,
   "metadata": {},
   "outputs": [],
   "source": [
    "import requests\n",
    "from bs4 import BeautifulSoup\n",
    "import pandas as pd\n",
    "import nltk\n",
    "from nltk.corpus import stopwords\n",
    "from nltk.tokenize import word_tokenize\n",
    "from nltk.stem import PorterStemmer\n",
    "import string\n",
    "from nltk.sentiment import SentimentIntensityAnalyzer\n",
    "import matplotlib.pyplot as plt\n",
    "import re\n",
    "\n",
    "from gensim import corpora, models\n",
    "import pyLDAvis\n",
    "import pyLDAvis.gensim_models as gensimvis"
   ]
  },
  {
   "cell_type": "code",
   "execution_count": 5,
   "metadata": {},
   "outputs": [
    {
     "name": "stdout",
     "output_type": "stream",
     "text": [
      "Scraping page 1\n",
      "   ---> 100 total reviews\n",
      "Scraping page 2\n",
      "   ---> 200 total reviews\n",
      "Scraping page 3\n",
      "   ---> 300 total reviews\n",
      "Scraping page 4\n",
      "   ---> 400 total reviews\n",
      "Scraping page 5\n",
      "   ---> 500 total reviews\n",
      "Scraping page 6\n",
      "   ---> 600 total reviews\n",
      "Scraping page 7\n",
      "   ---> 700 total reviews\n",
      "Scraping page 8\n",
      "   ---> 800 total reviews\n",
      "Scraping page 9\n",
      "   ---> 900 total reviews\n",
      "Scraping page 10\n",
      "   ---> 1000 total reviews\n"
     ]
    }
   ],
   "source": [
    "base_url = \"https://www.airlinequality.com/airline-reviews/british-airways\"\n",
    "pages = 10\n",
    "page_size = 100\n",
    "\n",
    "reviews = []\n",
    "\n",
    "# for i in range(1, pages + 1):\n",
    "for i in range(1, pages + 1):\n",
    "\n",
    "    print(f\"Scraping page {i}\")\n",
    "\n",
    "    # Create URL to collect links from paginated data\n",
    "    url = f\"{base_url}/page/{i}/?sortby=post_date%3ADesc&pagesize={page_size}\"\n",
    "\n",
    "    # Collect HTML data from this page\n",
    "    response = requests.get(url)\n",
    "\n",
    "    # Parse content\n",
    "    content = response.content\n",
    "    parsed_content = BeautifulSoup(content, 'html.parser')\n",
    "    for para in parsed_content.find_all(\"div\", {\"class\": \"text_content\"}):\n",
    "        reviews.append(para.get_text())\n",
    "    \n",
    "    print(f\"   ---> {len(reviews)} total reviews\")"
   ]
  },
  {
   "cell_type": "code",
   "execution_count": 6,
   "metadata": {},
   "outputs": [],
   "source": [
    "processed_df = pd.DataFrame()\n",
    "processed_df[\"reviews\"] = reviews"
   ]
  },
  {
   "cell_type": "code",
   "execution_count": 7,
   "metadata": {},
   "outputs": [
    {
     "data": {
      "text/html": [
       "<div>\n",
       "<style scoped>\n",
       "    .dataframe tbody tr th:only-of-type {\n",
       "        vertical-align: middle;\n",
       "    }\n",
       "\n",
       "    .dataframe tbody tr th {\n",
       "        vertical-align: top;\n",
       "    }\n",
       "\n",
       "    .dataframe thead th {\n",
       "        text-align: right;\n",
       "    }\n",
       "</style>\n",
       "<table border=\"1\" class=\"dataframe\">\n",
       "  <thead>\n",
       "    <tr style=\"text-align: right;\">\n",
       "      <th></th>\n",
       "      <th>reviews</th>\n",
       "    </tr>\n",
       "  </thead>\n",
       "  <tbody>\n",
       "    <tr>\n",
       "      <th>0</th>\n",
       "      <td>✅ Trip Verified | Despite boarding being the u...</td>\n",
       "    </tr>\n",
       "    <tr>\n",
       "      <th>1</th>\n",
       "      <td>Not Verified |  Flight cancelled, no crew! 9th...</td>\n",
       "    </tr>\n",
       "    <tr>\n",
       "      <th>2</th>\n",
       "      <td>Not Verified |  The worst service ever, my bag...</td>\n",
       "    </tr>\n",
       "    <tr>\n",
       "      <th>3</th>\n",
       "      <td>✅ Trip Verified |  4/4 flights we booked this ...</td>\n",
       "    </tr>\n",
       "    <tr>\n",
       "      <th>4</th>\n",
       "      <td>✅ Trip Verified |  British Airways has a total...</td>\n",
       "    </tr>\n",
       "    <tr>\n",
       "      <th>...</th>\n",
       "      <td>...</td>\n",
       "    </tr>\n",
       "    <tr>\n",
       "      <th>995</th>\n",
       "      <td>✅ Trip Verified |  London to Boston. I was sea...</td>\n",
       "    </tr>\n",
       "    <tr>\n",
       "      <th>996</th>\n",
       "      <td>✅ Trip Verified | Stockholm to London. Standar...</td>\n",
       "    </tr>\n",
       "    <tr>\n",
       "      <th>997</th>\n",
       "      <td>✅ Trip Verified |  Amsterdam to London arrived...</td>\n",
       "    </tr>\n",
       "    <tr>\n",
       "      <th>998</th>\n",
       "      <td>✅ Trip Verified |  Buenos Aires to London. We ...</td>\n",
       "    </tr>\n",
       "    <tr>\n",
       "      <th>999</th>\n",
       "      <td>✅ Trip Verified |  Business Class space is rid...</td>\n",
       "    </tr>\n",
       "  </tbody>\n",
       "</table>\n",
       "<p>1000 rows × 1 columns</p>\n",
       "</div>"
      ],
      "text/plain": [
       "                                               reviews\n",
       "0    ✅ Trip Verified | Despite boarding being the u...\n",
       "1    Not Verified |  Flight cancelled, no crew! 9th...\n",
       "2    Not Verified |  The worst service ever, my bag...\n",
       "3    ✅ Trip Verified |  4/4 flights we booked this ...\n",
       "4    ✅ Trip Verified |  British Airways has a total...\n",
       "..                                                 ...\n",
       "995  ✅ Trip Verified |  London to Boston. I was sea...\n",
       "996  ✅ Trip Verified | Stockholm to London. Standar...\n",
       "997  ✅ Trip Verified |  Amsterdam to London arrived...\n",
       "998  ✅ Trip Verified |  Buenos Aires to London. We ...\n",
       "999  ✅ Trip Verified |  Business Class space is rid...\n",
       "\n",
       "[1000 rows x 1 columns]"
      ]
     },
     "execution_count": 7,
     "metadata": {},
     "output_type": "execute_result"
    }
   ],
   "source": [
    "processed_df"
   ]
  },
  {
   "cell_type": "code",
   "execution_count": 8,
   "metadata": {},
   "outputs": [
    {
     "name": "stderr",
     "output_type": "stream",
     "text": [
      "[nltk_data] Downloading package punkt to\n",
      "[nltk_data]     C:\\Users\\INTELLECT\\AppData\\Roaming\\nltk_data...\n",
      "[nltk_data]   Package punkt is already up-to-date!\n",
      "[nltk_data] Downloading package stopwords to\n",
      "[nltk_data]     C:\\Users\\INTELLECT\\AppData\\Roaming\\nltk_data...\n",
      "[nltk_data]   Package stopwords is already up-to-date!\n",
      "[nltk_data] Downloading package vader_lexicon to\n",
      "[nltk_data]     C:\\Users\\INTELLECT\\AppData\\Roaming\\nltk_data...\n",
      "[nltk_data]   Package vader_lexicon is already up-to-date!\n"
     ]
    },
    {
     "data": {
      "text/plain": [
       "True"
      ]
     },
     "execution_count": 8,
     "metadata": {},
     "output_type": "execute_result"
    }
   ],
   "source": [
    "# Initialize NLTK resources\n",
    "nltk.download('punkt')  # Download tokenizer data\n",
    "nltk.download('stopwords')  # Download stop words data\n",
    "nltk.download('vader_lexicon')  # Download vader_lexicon dat"
   ]
  },
  {
   "cell_type": "code",
   "execution_count": 9,
   "metadata": {},
   "outputs": [],
   "source": [
    "# Removing Special characters, numbers and puntuactions\n",
    "processed_df['reviewsNew'] = processed_df['reviews'].apply(lambda x: re.sub('[^a-zA-Z]', ' ', x))"
   ]
  },
  {
   "cell_type": "code",
   "execution_count": 10,
   "metadata": {},
   "outputs": [
    {
     "data": {
      "text/plain": [
       "0        Trip Verified   Despite boarding being the u...\n",
       "1      Not Verified    Flight cancelled  no crew   th...\n",
       "2      Not Verified    The worst service ever  my bag...\n",
       "3        Trip Verified        flights we booked this ...\n",
       "4        Trip Verified    British Airways has a total...\n",
       "                             ...                        \n",
       "995      Trip Verified    London to Boston  I was sea...\n",
       "996      Trip Verified   Stockholm to London  Standar...\n",
       "997      Trip Verified    Amsterdam to London arrived...\n",
       "998      Trip Verified    Buenos Aires to London  We ...\n",
       "999      Trip Verified    Business Class space is rid...\n",
       "Name: reviewsNew, Length: 1000, dtype: object"
      ]
     },
     "execution_count": 10,
     "metadata": {},
     "output_type": "execute_result"
    }
   ],
   "source": [
    "processed_df['reviewsNew']"
   ]
  },
  {
   "cell_type": "code",
   "execution_count": 11,
   "metadata": {},
   "outputs": [],
   "source": [
    "# Changing reviews to lowercase and split the sentances into individual words \n",
    "processed_df['reviewsNew'] = processed_df['reviewsNew'].apply(lambda x: word_tokenize(x.lower()))\n"
   ]
  },
  {
   "cell_type": "code",
   "execution_count": 12,
   "metadata": {},
   "outputs": [
    {
     "data": {
      "text/plain": [
       "0      [trip, verified, despite, boarding, being, the...\n",
       "1      [not, verified, flight, cancelled, no, crew, t...\n",
       "2      [not, verified, the, worst, service, ever, my,...\n",
       "3      [trip, verified, flights, we, booked, this, ho...\n",
       "4      [trip, verified, british, airways, has, a, tot...\n",
       "                             ...                        \n",
       "995    [trip, verified, london, to, boston, i, was, s...\n",
       "996    [trip, verified, stockholm, to, london, standa...\n",
       "997    [trip, verified, amsterdam, to, london, arrive...\n",
       "998    [trip, verified, buenos, aires, to, london, we...\n",
       "999    [trip, verified, business, class, space, is, r...\n",
       "Name: reviewsNew, Length: 1000, dtype: object"
      ]
     },
     "execution_count": 12,
     "metadata": {},
     "output_type": "execute_result"
    }
   ],
   "source": [
    "processed_df['reviewsNew']"
   ]
  },
  {
   "cell_type": "code",
   "execution_count": 13,
   "metadata": {},
   "outputs": [],
   "source": [
    "# Removing Stop Words\n",
    "ps = PorterStemmer() # creating rootwords\n",
    "stop_words = set(stopwords.words('english'))\n",
    "processed_df['reviewsNew'] = processed_df['reviewsNew'].apply(lambda x: [ps.stem(word) for word in x if word not in stop_words])\n"
   ]
  },
  {
   "cell_type": "code",
   "execution_count": 14,
   "metadata": {},
   "outputs": [
    {
     "data": {
      "text/plain": [
       "0      [trip, verifi, despit, board, usual, free, lhr...\n",
       "1      [verifi, flight, cancel, crew, th, septemb, pe...\n",
       "2      [verifi, worst, servic, ever, baggag, arriv, t...\n",
       "3      [trip, verifi, flight, book, holiday, delay, h...\n",
       "4      [trip, verifi, british, airway, total, lack, r...\n",
       "                             ...                        \n",
       "995    [trip, verifi, london, boston, seat, next, cus...\n",
       "996    [trip, verifi, stockholm, london, standard, co...\n",
       "997    [trip, verifi, amsterdam, london, arriv, minut...\n",
       "998    [trip, verifi, bueno, air, london, flew, overn...\n",
       "999    [trip, verifi, busi, class, space, ridicul, na...\n",
       "Name: reviewsNew, Length: 1000, dtype: object"
      ]
     },
     "execution_count": 14,
     "metadata": {},
     "output_type": "execute_result"
    }
   ],
   "source": [
    "processed_df['reviewsNew']"
   ]
  },
  {
   "cell_type": "code",
   "execution_count": 15,
   "metadata": {},
   "outputs": [],
   "source": [
    "# Sentiment Analysis\n",
    "sia = SentimentIntensityAnalyzer()\n",
    "processed_df['Sentiment_Score'] = processed_df['reviewsNew'].apply(lambda x: sia.polarity_scores(' '.join(x))['compound'])\n"
   ]
  },
  {
   "cell_type": "code",
   "execution_count": 16,
   "metadata": {},
   "outputs": [
    {
     "data": {
      "text/html": [
       "<div>\n",
       "<style scoped>\n",
       "    .dataframe tbody tr th:only-of-type {\n",
       "        vertical-align: middle;\n",
       "    }\n",
       "\n",
       "    .dataframe tbody tr th {\n",
       "        vertical-align: top;\n",
       "    }\n",
       "\n",
       "    .dataframe thead th {\n",
       "        text-align: right;\n",
       "    }\n",
       "</style>\n",
       "<table border=\"1\" class=\"dataframe\">\n",
       "  <thead>\n",
       "    <tr style=\"text-align: right;\">\n",
       "      <th></th>\n",
       "      <th>reviews</th>\n",
       "      <th>reviewsNew</th>\n",
       "      <th>Sentiment_Score</th>\n",
       "    </tr>\n",
       "  </thead>\n",
       "  <tbody>\n",
       "    <tr>\n",
       "      <th>0</th>\n",
       "      <td>✅ Trip Verified | Despite boarding being the u...</td>\n",
       "      <td>[trip, verifi, despit, board, usual, free, lhr...</td>\n",
       "      <td>0.9508</td>\n",
       "    </tr>\n",
       "    <tr>\n",
       "      <th>1</th>\n",
       "      <td>Not Verified |  Flight cancelled, no crew! 9th...</td>\n",
       "      <td>[verifi, flight, cancel, crew, th, septemb, pe...</td>\n",
       "      <td>-0.7845</td>\n",
       "    </tr>\n",
       "    <tr>\n",
       "      <th>2</th>\n",
       "      <td>Not Verified |  The worst service ever, my bag...</td>\n",
       "      <td>[verifi, worst, servic, ever, baggag, arriv, t...</td>\n",
       "      <td>-0.8720</td>\n",
       "    </tr>\n",
       "    <tr>\n",
       "      <th>3</th>\n",
       "      <td>✅ Trip Verified |  4/4 flights we booked this ...</td>\n",
       "      <td>[trip, verifi, flight, book, holiday, delay, h...</td>\n",
       "      <td>0.4404</td>\n",
       "    </tr>\n",
       "    <tr>\n",
       "      <th>4</th>\n",
       "      <td>✅ Trip Verified |  British Airways has a total...</td>\n",
       "      <td>[trip, verifi, british, airway, total, lack, r...</td>\n",
       "      <td>-0.3818</td>\n",
       "    </tr>\n",
       "    <tr>\n",
       "      <th>...</th>\n",
       "      <td>...</td>\n",
       "      <td>...</td>\n",
       "      <td>...</td>\n",
       "    </tr>\n",
       "    <tr>\n",
       "      <th>995</th>\n",
       "      <td>✅ Trip Verified |  London to Boston. I was sea...</td>\n",
       "      <td>[trip, verifi, london, boston, seat, next, cus...</td>\n",
       "      <td>0.9022</td>\n",
       "    </tr>\n",
       "    <tr>\n",
       "      <th>996</th>\n",
       "      <td>✅ Trip Verified | Stockholm to London. Standar...</td>\n",
       "      <td>[trip, verifi, stockholm, london, standard, co...</td>\n",
       "      <td>0.9468</td>\n",
       "    </tr>\n",
       "    <tr>\n",
       "      <th>997</th>\n",
       "      <td>✅ Trip Verified |  Amsterdam to London arrived...</td>\n",
       "      <td>[trip, verifi, amsterdam, london, arriv, minut...</td>\n",
       "      <td>0.1779</td>\n",
       "    </tr>\n",
       "    <tr>\n",
       "      <th>998</th>\n",
       "      <td>✅ Trip Verified |  Buenos Aires to London. We ...</td>\n",
       "      <td>[trip, verifi, bueno, air, london, flew, overn...</td>\n",
       "      <td>0.1027</td>\n",
       "    </tr>\n",
       "    <tr>\n",
       "      <th>999</th>\n",
       "      <td>✅ Trip Verified |  Business Class space is rid...</td>\n",
       "      <td>[trip, verifi, busi, class, space, ridicul, na...</td>\n",
       "      <td>-0.0772</td>\n",
       "    </tr>\n",
       "  </tbody>\n",
       "</table>\n",
       "<p>1000 rows × 3 columns</p>\n",
       "</div>"
      ],
      "text/plain": [
       "                                               reviews  \\\n",
       "0    ✅ Trip Verified | Despite boarding being the u...   \n",
       "1    Not Verified |  Flight cancelled, no crew! 9th...   \n",
       "2    Not Verified |  The worst service ever, my bag...   \n",
       "3    ✅ Trip Verified |  4/4 flights we booked this ...   \n",
       "4    ✅ Trip Verified |  British Airways has a total...   \n",
       "..                                                 ...   \n",
       "995  ✅ Trip Verified |  London to Boston. I was sea...   \n",
       "996  ✅ Trip Verified | Stockholm to London. Standar...   \n",
       "997  ✅ Trip Verified |  Amsterdam to London arrived...   \n",
       "998  ✅ Trip Verified |  Buenos Aires to London. We ...   \n",
       "999  ✅ Trip Verified |  Business Class space is rid...   \n",
       "\n",
       "                                            reviewsNew  Sentiment_Score  \n",
       "0    [trip, verifi, despit, board, usual, free, lhr...           0.9508  \n",
       "1    [verifi, flight, cancel, crew, th, septemb, pe...          -0.7845  \n",
       "2    [verifi, worst, servic, ever, baggag, arriv, t...          -0.8720  \n",
       "3    [trip, verifi, flight, book, holiday, delay, h...           0.4404  \n",
       "4    [trip, verifi, british, airway, total, lack, r...          -0.3818  \n",
       "..                                                 ...              ...  \n",
       "995  [trip, verifi, london, boston, seat, next, cus...           0.9022  \n",
       "996  [trip, verifi, stockholm, london, standard, co...           0.9468  \n",
       "997  [trip, verifi, amsterdam, london, arriv, minut...           0.1779  \n",
       "998  [trip, verifi, bueno, air, london, flew, overn...           0.1027  \n",
       "999  [trip, verifi, busi, class, space, ridicul, na...          -0.0772  \n",
       "\n",
       "[1000 rows x 3 columns]"
      ]
     },
     "execution_count": 16,
     "metadata": {},
     "output_type": "execute_result"
    }
   ],
   "source": [
    "processed_df"
   ]
  },
  {
   "cell_type": "code",
   "execution_count": 17,
   "metadata": {},
   "outputs": [],
   "source": [
    "# Analysis and Visualization\n",
    "sentiment_labels = []\n",
    "for score in processed_df['Sentiment_Score']:\n",
    "    if score > 0.05:\n",
    "        sentiment_labels.append('Positive')\n",
    "    elif score < -0.05:\n",
    "        sentiment_labels.append('Negative')\n",
    "    else:\n",
    "        sentiment_labels.append('Neutral')\n",
    "\n",
    "processed_df['Sentiment_Label'] = sentiment_labels\n"
   ]
  },
  {
   "cell_type": "code",
   "execution_count": 18,
   "metadata": {},
   "outputs": [
    {
     "data": {
      "text/html": [
       "<div>\n",
       "<style scoped>\n",
       "    .dataframe tbody tr th:only-of-type {\n",
       "        vertical-align: middle;\n",
       "    }\n",
       "\n",
       "    .dataframe tbody tr th {\n",
       "        vertical-align: top;\n",
       "    }\n",
       "\n",
       "    .dataframe thead th {\n",
       "        text-align: right;\n",
       "    }\n",
       "</style>\n",
       "<table border=\"1\" class=\"dataframe\">\n",
       "  <thead>\n",
       "    <tr style=\"text-align: right;\">\n",
       "      <th></th>\n",
       "      <th>reviews</th>\n",
       "      <th>reviewsNew</th>\n",
       "      <th>Sentiment_Score</th>\n",
       "      <th>Sentiment_Label</th>\n",
       "    </tr>\n",
       "  </thead>\n",
       "  <tbody>\n",
       "    <tr>\n",
       "      <th>0</th>\n",
       "      <td>✅ Trip Verified | Despite boarding being the u...</td>\n",
       "      <td>[trip, verifi, despit, board, usual, free, lhr...</td>\n",
       "      <td>0.9508</td>\n",
       "      <td>Positive</td>\n",
       "    </tr>\n",
       "    <tr>\n",
       "      <th>1</th>\n",
       "      <td>Not Verified |  Flight cancelled, no crew! 9th...</td>\n",
       "      <td>[verifi, flight, cancel, crew, th, septemb, pe...</td>\n",
       "      <td>-0.7845</td>\n",
       "      <td>Negative</td>\n",
       "    </tr>\n",
       "    <tr>\n",
       "      <th>2</th>\n",
       "      <td>Not Verified |  The worst service ever, my bag...</td>\n",
       "      <td>[verifi, worst, servic, ever, baggag, arriv, t...</td>\n",
       "      <td>-0.8720</td>\n",
       "      <td>Negative</td>\n",
       "    </tr>\n",
       "    <tr>\n",
       "      <th>3</th>\n",
       "      <td>✅ Trip Verified |  4/4 flights we booked this ...</td>\n",
       "      <td>[trip, verifi, flight, book, holiday, delay, h...</td>\n",
       "      <td>0.4404</td>\n",
       "      <td>Positive</td>\n",
       "    </tr>\n",
       "    <tr>\n",
       "      <th>4</th>\n",
       "      <td>✅ Trip Verified |  British Airways has a total...</td>\n",
       "      <td>[trip, verifi, british, airway, total, lack, r...</td>\n",
       "      <td>-0.3818</td>\n",
       "      <td>Negative</td>\n",
       "    </tr>\n",
       "    <tr>\n",
       "      <th>...</th>\n",
       "      <td>...</td>\n",
       "      <td>...</td>\n",
       "      <td>...</td>\n",
       "      <td>...</td>\n",
       "    </tr>\n",
       "    <tr>\n",
       "      <th>995</th>\n",
       "      <td>✅ Trip Verified |  London to Boston. I was sea...</td>\n",
       "      <td>[trip, verifi, london, boston, seat, next, cus...</td>\n",
       "      <td>0.9022</td>\n",
       "      <td>Positive</td>\n",
       "    </tr>\n",
       "    <tr>\n",
       "      <th>996</th>\n",
       "      <td>✅ Trip Verified | Stockholm to London. Standar...</td>\n",
       "      <td>[trip, verifi, stockholm, london, standard, co...</td>\n",
       "      <td>0.9468</td>\n",
       "      <td>Positive</td>\n",
       "    </tr>\n",
       "    <tr>\n",
       "      <th>997</th>\n",
       "      <td>✅ Trip Verified |  Amsterdam to London arrived...</td>\n",
       "      <td>[trip, verifi, amsterdam, london, arriv, minut...</td>\n",
       "      <td>0.1779</td>\n",
       "      <td>Positive</td>\n",
       "    </tr>\n",
       "    <tr>\n",
       "      <th>998</th>\n",
       "      <td>✅ Trip Verified |  Buenos Aires to London. We ...</td>\n",
       "      <td>[trip, verifi, bueno, air, london, flew, overn...</td>\n",
       "      <td>0.1027</td>\n",
       "      <td>Positive</td>\n",
       "    </tr>\n",
       "    <tr>\n",
       "      <th>999</th>\n",
       "      <td>✅ Trip Verified |  Business Class space is rid...</td>\n",
       "      <td>[trip, verifi, busi, class, space, ridicul, na...</td>\n",
       "      <td>-0.0772</td>\n",
       "      <td>Negative</td>\n",
       "    </tr>\n",
       "  </tbody>\n",
       "</table>\n",
       "<p>1000 rows × 4 columns</p>\n",
       "</div>"
      ],
      "text/plain": [
       "                                               reviews  \\\n",
       "0    ✅ Trip Verified | Despite boarding being the u...   \n",
       "1    Not Verified |  Flight cancelled, no crew! 9th...   \n",
       "2    Not Verified |  The worst service ever, my bag...   \n",
       "3    ✅ Trip Verified |  4/4 flights we booked this ...   \n",
       "4    ✅ Trip Verified |  British Airways has a total...   \n",
       "..                                                 ...   \n",
       "995  ✅ Trip Verified |  London to Boston. I was sea...   \n",
       "996  ✅ Trip Verified | Stockholm to London. Standar...   \n",
       "997  ✅ Trip Verified |  Amsterdam to London arrived...   \n",
       "998  ✅ Trip Verified |  Buenos Aires to London. We ...   \n",
       "999  ✅ Trip Verified |  Business Class space is rid...   \n",
       "\n",
       "                                            reviewsNew  Sentiment_Score  \\\n",
       "0    [trip, verifi, despit, board, usual, free, lhr...           0.9508   \n",
       "1    [verifi, flight, cancel, crew, th, septemb, pe...          -0.7845   \n",
       "2    [verifi, worst, servic, ever, baggag, arriv, t...          -0.8720   \n",
       "3    [trip, verifi, flight, book, holiday, delay, h...           0.4404   \n",
       "4    [trip, verifi, british, airway, total, lack, r...          -0.3818   \n",
       "..                                                 ...              ...   \n",
       "995  [trip, verifi, london, boston, seat, next, cus...           0.9022   \n",
       "996  [trip, verifi, stockholm, london, standard, co...           0.9468   \n",
       "997  [trip, verifi, amsterdam, london, arriv, minut...           0.1779   \n",
       "998  [trip, verifi, bueno, air, london, flew, overn...           0.1027   \n",
       "999  [trip, verifi, busi, class, space, ridicul, na...          -0.0772   \n",
       "\n",
       "    Sentiment_Label  \n",
       "0          Positive  \n",
       "1          Negative  \n",
       "2          Negative  \n",
       "3          Positive  \n",
       "4          Negative  \n",
       "..              ...  \n",
       "995        Positive  \n",
       "996        Positive  \n",
       "997        Positive  \n",
       "998        Positive  \n",
       "999        Negative  \n",
       "\n",
       "[1000 rows x 4 columns]"
      ]
     },
     "execution_count": 18,
     "metadata": {},
     "output_type": "execute_result"
    }
   ],
   "source": [
    "processed_df"
   ]
  },
  {
   "cell_type": "code",
   "execution_count": 19,
   "metadata": {},
   "outputs": [
    {
     "data": {
      "text/plain": [
       "Positive    597\n",
       "Negative    368\n",
       "Neutral      35\n",
       "Name: Sentiment_Label, dtype: int64"
      ]
     },
     "execution_count": 19,
     "metadata": {},
     "output_type": "execute_result"
    }
   ],
   "source": [
    "processed_df['Sentiment_Label'].value_counts()"
   ]
  },
  {
   "cell_type": "code",
   "execution_count": 20,
   "metadata": {},
   "outputs": [
    {
     "data": {
      "image/png": "[encoded data removed]",
      "text/plain": [
       "<Figure size 640x480 with 1 Axes>"
      ]
     },
     "metadata": {},
     "output_type": "display_data"
    }
   ],
   "source": [
    "# Count sentiment labels\n",
    "sentiment_counts = processed_df['Sentiment_Label'].value_counts()\n",
    "\n",
    "# Visualization\n",
    "plt.bar(sentiment_counts.index, sentiment_counts.values)\n",
    "plt.xlabel('Sentiment')\n",
    "plt.ylabel('Count')\n",
    "plt.title('Sentiment Analysis')\n",
    "plt.show()\n"
   ]
  },
  {
   "cell_type": "code",
   "execution_count": 21,
   "metadata": {},
   "outputs": [],
   "source": [
    "\n",
    "# Create a Dictionary and Corpus\n",
    "dictionary = corpora.Dictionary(processed_df['reviewsNew'])\n",
    "corpus = [dictionary.doc2bow(tokens) for tokens in processed_df['reviewsNew']]"
   ]
  },
  {
   "cell_type": "code",
   "execution_count": 22,
   "metadata": {},
   "outputs": [
    {
     "name": "stdout",
     "output_type": "stream",
     "text": [
      "(0, '0.024*\"flight\" + 0.017*\"ba\" + 0.012*\"seat\" + 0.012*\"verifi\" + 0.010*\"board\"')\n",
      "(1, '0.024*\"flight\" + 0.023*\"seat\" + 0.015*\"trip\" + 0.015*\"verifi\" + 0.012*\"ba\"')\n",
      "(2, '0.034*\"flight\" + 0.018*\"ba\" + 0.013*\"verifi\" + 0.012*\"hour\" + 0.011*\"trip\"')\n",
      "(3, '0.025*\"flight\" + 0.014*\"refund\" + 0.013*\"ba\" + 0.012*\"travel\" + 0.011*\"cancel\"')\n",
      "(4, '0.018*\"seat\" + 0.010*\"flight\" + 0.007*\"ba\" + 0.006*\"us\" + 0.006*\"book\"')\n"
     ]
    }
   ],
   "source": [
    "# Train LDA Model\n",
    "num_topics = 5  # You can adjust the number of topics\n",
    "lda_model = models.LdaModel(corpus, num_topics=num_topics, id2word=dictionary, passes=15)\n",
    "\n",
    "# Print Topics\n",
    "topics = lda_model.print_topics(num_words=5)\n",
    "for topic in topics:\n",
    "    print(topic)\n"
   ]
  },
  {
   "cell_type": "code",
   "execution_count": 23,
   "metadata": {},
   "outputs": [
    {
     "name": "stderr",
     "output_type": "stream",
     "text": [
      "c:\\Users\\INTELLECT\\anaconda3\\envs\\tf20_py30\\lib\\site-packages\\pyLDAvis\\_prepare.py:244: FutureWarning: In a future version of pandas all arguments of DataFrame.drop except for the argument 'labels' will be keyword-only.\n",
      "  by='saliency', ascending=False).head(R).drop('saliency', 1)\n"
     ]
    },
    {
     "data": {
      "text/html": [
       "\n",
       "<link rel=\"stylesheet\" type=\"text/css\" href=\"https://cdn.jsdelivr.net/gh/bmabey/pyLDAvis@3.4.0/pyLDAvis/js/ldavis.v1.0.0.css\">\n",
       "\n",
       "\n",
       "<div id=\"ldavis_el508016896711009929345796054\" style=\"background-color:white;\"></div>\n",
       "<script type=\"text/javascript\">\n",
       "\n",
       "var ldavis_el508016896711009929345796054_data = {\"mdsDat\": {\"x\": [-0.11681286432574156, -0.00017638179998070115, -0.05764699923722106, 0.05027126834535816, 0.12436497701758518], \"y\": [0.06065561998772706, -0.11016226859508434, 0.02445605581876069, -0.07234525062589384, 0.09739584341449027], \"topics\": [1, 2, 3, 4, 5], \"cluster\": [1, 1, 1, 1, 1], \"Freq\": [37.129879114841, 33.634565363086196, 19.543973626767556, 7.285663463646914, 2.405918431658326]}, \"tinfo\": {\"Term\": [\"seat\", \"flight\", \"book\", \"cancel\", \"refund\", \"ba\", \"us\", \"travel\", \"cabin\", \"custom\", \"call\", \"told\", \"crew\", \"economi\", \"ask\", \"trip\", \"london\", \"good\", \"voucher\", \"day\", \"airway\", \"british\", \"airlin\", \"could\", \"verifi\", \"lhr\", \"go\", \"check\", \"would\", \"food\", \"bed\", \"configur\", \"film\", \"privaci\", \"style\", \"size\", \"fi\", \"wi\", \"entertain\", \"pillow\", \"plate\", \"featur\", \"fruit\", \"suit\", \"galleri\", \"averag\", \"slept\", \"boe\", \"conveni\", \"usb\", \"superior\", \"highli\", \"quieter\", \"desir\", \"sofia\", \"veget\", \"width\", \"pastri\", \"juic\", \"cramp\", \"excel\", \"inflight\", \"cater\", \"breakfast\", \"ife\", \"improv\", \"dirti\", \"good\", \"deck\", \"haul\", \"product\", \"club\", \"attent\", \"comfort\", \"movi\", \"food\", \"window\", \"class\", \"seat\", \"great\", \"loung\", \"overal\", \"busi\", \"meal\", \"drink\", \"world\", \"select\", \"crew\", \"quit\", \"cabin\", \"screen\", \"aircraft\", \"well\", \"trip\", \"small\", \"verifi\", \"servic\", \"flight\", \"serv\", \"realli\", \"old\", \"economi\", \"time\", \"offer\", \"board\", \"london\", \"ba\", \"experi\", \"first\", \"staff\", \"one\", \"passeng\", \"get\", \"would\", \"suitcas\", \"reimburs\", \"employe\", \"test\", \"phone\", \"site\", \"file\", \"lost\", \"telephon\", \"sister\", \"juli\", \"sunday\", \"car\", \"cloth\", \"august\", \"receipt\", \"confirm\", \"reschedul\", \"letter\", \"henc\", \"twitter\", \"hung\", \"vacat\", \"bank\", \"signific\", \"countri\", \"lodg\", \"web\", \"speak\", \"legal\", \"manchest\", \"rebook\", \"claim\", \"answer\", \"email\", \"custom\", \"call\", \"told\", \"sent\", \"number\", \"receiv\", \"pick\", \"cancel\", \"day\", \"book\", \"airport\", \"ticket\", \"luggag\", \"miss\", \"tri\", \"th\", \"connect\", \"hour\", \"delay\", \"flight\", \"us\", \"bag\", \"british\", \"wait\", \"ba\", \"airway\", \"get\", \"help\", \"verifi\", \"servic\", \"would\", \"trip\", \"london\", \"time\", \"arriv\", \"airlin\", \"check\", \"one\", \"staff\", \"could\", \"zurich\", \"perform\", \"difficulti\", \"au\", \"eaten\", \"alaska\", \"flower\", \"apologet\", \"nose\", \"nassau\", \"sa\", \"cream\", \"bulli\", \"elit\", \"kalamata\", \"cdg\", \"prais\", \"pretend\", \"pro\", \"enabl\", \"nervou\", \"dubrovnik\", \"upload\", \"slot\", \"easyjet\", \"clueless\", \"refit\", \"shout\", \"compel\", \"wt\", \"overhead\", \"vaccin\", \"finish\", \"start\", \"challeng\", \"premium\", \"procedur\", \"gate\", \"late\", \"board\", \"check\", \"economi\", \"queue\", \"land\", \"cabin\", \"passeng\", \"ba\", \"crew\", \"kid\", \"water\", \"pass\", \"tea\", \"flight\", \"seat\", \"member\", \"lhr\", \"coffe\", \"verifi\", \"minut\", \"wife\", \"time\", \"hour\", \"plane\", \"one\", \"return\", \"staff\", \"trip\", \"airlin\", \"heathrow\", \"servic\", \"food\", \"fli\", \"back\", \"london\", \"us\", \"get\", \"thru\", \"turkish\", \"lufthansa\", \"consum\", \"sugar\", \"dump\", \"penalti\", \"shambol\", \"connexion\", \"unfair\", \"swiss\", \"diego\", \"ciara\", \"sir\", \"seal\", \"honor\", \"fellow\", \"milan\", \"malpensa\", \"misconnect\", \"stirrer\", \"edream\", \"health\", \"switzerland\", \"brexit\", \"payabl\", \"financi\", \"cousin\", \"cot\", \"af\", \"mail\", \"divert\", \"refund\", \"appli\", \"dealt\", \"layov\", \"berlin\", \"stale\", \"commerci\", \"advis\", \"guess\", \"reserv\", \"fee\", \"travel\", \"cancel\", \"voucher\", \"malaga\", \"ruin\", \"partner\", \"ask\", \"book\", \"min\", \"flight\", \"month\", \"said\", \"decid\", \"london\", \"refus\", \"got\", \"airlin\", \"hotel\", \"ba\", \"paid\", \"us\", \"trip\", \"call\", \"airway\", \"verifi\", \"british\", \"make\", \"custom\", \"day\", \"could\", \"chang\", \"would\", \"get\", \"seat\", \"ticket\", \"hour\", \"servic\", \"fli\", \"wir\", \"und\", \"upstair\", \"notif\", \"zrh\", \"ck\", \"haben\", \"wieder\", \"versp\", \"golf\", \"bubbl\", \"debacl\", \"tung\", \"unser\", \"mit\", \"tsa\", \"rico\", \"puerto\", \"flughafen\", \"homeward\", \"gep\", \"sitzen\", \"sie\", \"flug\", \"war\", \"unseren\", \"auch\", \"letzten\", \"im\", \"verpassen\", \"am\", \"vod\", \"lock\", \"hall\", \"besid\", \"cri\", \"child\", \"broken\", \"seat\", \"increas\", \"autom\", \"purpos\", \"lhr\", \"america\", \"alloc\", \"tell\", \"us\", \"sit\", \"state\", \"app\", \"book\", \"flight\", \"rude\", \"go\", \"ba\", \"return\", \"felt\", \"one\", \"way\", \"trip\", \"without\", \"could\", \"verifi\", \"would\", \"time\", \"passeng\", \"told\", \"cabin\", \"travel\", \"airway\", \"british\", \"check\", \"economi\", \"get\", \"crew\"], \"Freq\": [944.0, 2013.0, 361.0, 285.0, 173.0, 1120.0, 349.0, 258.0, 367.0, 328.0, 286.0, 235.0, 436.0, 257.0, 197.0, 885.0, 562.0, 403.0, 109.0, 292.0, 373.0, 374.0, 399.0, 254.0, 961.0, 116.0, 194.0, 428.0, 351.0, 447.0, 36.34871278294038, 25.47794437422703, 20.6818387062361, 18.772250210314404, 20.509417784758153, 12.82103639427544, 13.694385738638951, 11.760212350295296, 103.64189117132695, 25.393360801255238, 10.825414960495193, 8.987737822067281, 10.754481194753884, 45.1809770390596, 21.495838666064483, 24.99978041625171, 8.006683157511699, 28.64072767857549, 7.989736612588574, 7.9759862901198595, 9.723950335999133, 7.045306782660207, 7.043432659831246, 7.930657970711261, 7.01387550554387, 8.749168146551899, 9.6618132748166, 8.742008867648185, 11.392072858452213, 37.67618186756613, 85.52031662842292, 42.69304007448915, 20.914849240591874, 88.24496049417444, 57.74151036010943, 46.15444118191518, 21.01828266315911, 338.773913114923, 25.96990810168342, 57.52895629794728, 53.827819862485086, 164.8335125079101, 45.63335397478798, 119.52357766062654, 30.502344466444452, 338.0988398052522, 32.108211579128046, 304.5120685263013, 650.6529055725616, 109.57367150090332, 145.2546485865638, 73.80416967220425, 276.82306451728005, 161.45022146787105, 173.29318623046743, 87.72370143841412, 72.8729640809574, 278.4448227648853, 67.93375551678172, 239.30265857198344, 76.6322145362526, 127.20627507650862, 108.99351051553936, 412.3592124770917, 73.76637594262921, 412.248477108831, 323.02292885959474, 660.4080456248627, 100.64998052954496, 102.18115185051441, 78.46532714801533, 141.2582794418535, 240.57921506723142, 147.7186337425918, 182.47759427523602, 224.61723959957413, 341.7849346216771, 127.47856112959659, 123.41127362067341, 145.8543289827069, 143.48604730318343, 115.89023064728387, 117.74169539609146, 111.4177824251848, 33.57465470243398, 23.741084986119937, 24.65132699771186, 21.777537630722637, 112.29375565156217, 13.964781723394468, 21.270297602220488, 63.60652584896337, 12.874187244771747, 12.847627676295842, 13.643376432817261, 9.055745914895345, 18.018274132835224, 16.078985055131316, 22.254693459046244, 7.089612360986236, 29.92448149293624, 13.000844885005971, 7.858510032618012, 6.108140479877124, 8.707819239352345, 6.103576816120483, 6.1022682966008785, 6.091218209063979, 6.0788052639353936, 10.433177124373401, 7.729460048615623, 6.06859998655972, 43.56257391539263, 6.03362719563945, 14.683706726167308, 82.40839757052518, 64.22369473448111, 41.32317860277124, 91.21574726907207, 260.9098278956652, 227.8420152320703, 188.27380656071017, 43.520113852148214, 81.1852857514626, 90.8379419968665, 30.740043085416104, 209.27961286277178, 206.67448707871944, 249.8932155483614, 170.85767316497058, 119.02526176006921, 128.12106731715983, 94.27412306692487, 130.40761339038323, 55.71208513333007, 94.95141629490341, 290.8377106581945, 167.91001192328372, 853.8421239537545, 196.93745702474058, 150.87274118926047, 198.0899645964132, 117.90503981479276, 445.0296327681444, 193.8408918423897, 208.72173415687854, 121.4361215934446, 317.0330789402663, 264.24427047162703, 166.97968538537296, 278.2345440938108, 206.30200400038487, 206.86084610561014, 149.3734098580485, 164.3078853182791, 167.57769789758686, 157.96407694828966, 147.47257598081688, 125.35707463349736, 8.273390053064995, 9.10870049998214, 6.492177812525962, 5.632875300170039, 5.602154106791817, 5.593118787963228, 4.726430064602313, 6.304345071434197, 4.699294667381791, 4.689304018044266, 4.682419152884741, 4.663376970980646, 3.8141777507734846, 3.8109051357652075, 3.8053318766728843, 6.676793833337753, 3.799421969178797, 3.795520858485097, 3.775283553420874, 3.766737633472923, 3.7615065695874628, 4.529551764426392, 6.541191089088, 6.524164957498652, 13.398317102992026, 5.248062709701315, 3.717858760265202, 5.621481735819841, 2.905837854587211, 2.9055398204824807, 15.465047295894667, 6.520470358625552, 16.21553173246819, 43.96803235409543, 9.02758060879913, 72.98669108200984, 8.968821169001231, 63.49968140719863, 63.70643216709574, 149.4477370338033, 148.3898503653649, 98.70338622919205, 38.301242180842216, 46.729600581466045, 116.56721851177706, 86.85745858932198, 250.15969477776, 122.66374783673518, 11.044314460605305, 44.504416940693275, 32.73511371981231, 21.304744184396156, 345.0202066466614, 182.58098506322233, 32.228576064773655, 42.215241942882514, 19.643609180635405, 172.10823473386057, 59.320503400414616, 30.24549595953369, 117.40081627595063, 108.23718021827023, 65.1170478519569, 89.12767546065976, 58.1534487807953, 84.5595520669311, 134.5445469602293, 82.75001015936606, 69.19578943214007, 107.76303590500841, 77.40561395212774, 64.99985836724849, 60.67818379083158, 75.46436870429737, 63.025578054959084, 62.42303459056157, 4.101572711446063, 4.100250620512376, 4.058432019003767, 3.3191799108195763, 3.316426615095066, 3.2885023749220386, 3.242268956768166, 4.520138557276811, 2.528314562338814, 2.5241141560134026, 2.515682645149128, 6.30527116293545, 2.4866629718360254, 2.4848810439329814, 2.4783086041506297, 3.7009152171821933, 4.105925813548224, 4.09940793069444, 1.7395731166777744, 1.7380614284879563, 1.7380019407582643, 1.7378366793915534, 1.7374452374055325, 1.7372753633538989, 1.7375767784548781, 1.7373676170523518, 1.7371937665481985, 1.7368947373187311, 1.736352031078868, 1.736416449609684, 4.775699434614276, 3.320460010414658, 74.45165114066394, 5.554000306540083, 4.552899436178373, 10.472551412046348, 4.067877525260517, 3.1205716951637843, 2.5277888753157347, 15.345985369150018, 5.874037293726139, 16.055113463627386, 16.31502330755639, 63.05233116237744, 60.936430873821685, 29.930194412464317, 8.762101674563384, 6.33840678272245, 11.143329325960728, 37.437578983668665, 55.10885254263633, 17.756680124297958, 135.7472479306961, 16.38133272107458, 25.381804591559273, 12.621334099892659, 54.084314779240806, 12.958310774811839, 26.588943599580436, 41.44474625867468, 15.559169032928933, 71.5799525659322, 21.019193359901067, 34.16424725228288, 52.182346363770044, 29.748079249394657, 33.35766998554891, 51.32683264551754, 32.403603868052805, 22.243649341470405, 28.826868173195773, 26.91630807535325, 25.397229409940564, 21.40809550616865, 27.68357890422233, 27.9556675088119, 27.414798708128995, 20.016021553067194, 23.29202291561649, 22.938631444696757, 20.87748404428888, 4.467579556906901, 3.8466843953953465, 3.221970232781746, 3.202164876678677, 2.5879072176601547, 1.9856395875183213, 1.9856084926091997, 1.9855170987884707, 1.9853567919259048, 1.9838776827352569, 1.8313764827617731, 1.365281758642432, 1.3651467689187116, 1.365142671954334, 1.3651376295366386, 1.3649133469995625, 1.3651171447147512, 1.3650744942650777, 1.3650647245807928, 1.3648018885584206, 1.3650141953534702, 1.3649855166028277, 1.3649655570327834, 1.3649153429565668, 1.3648844581481825, 1.36486670463588, 1.3648463248643612, 1.3648186966174052, 1.3647218401775063, 1.36478865221197, 3.2163437350366397, 1.7348844625916795, 2.8688306024064727, 1.9861431989856482, 1.9851204285964332, 2.9596073572699475, 2.516424643805879, 5.293874661829854, 31.599668579328867, 2.6833244675085495, 2.4354266075589273, 2.422229339845667, 7.754552646703609, 1.9313308580323325, 2.8563088085636577, 5.2715926382354, 11.297887294551652, 5.538297035382929, 4.049289158597601, 4.5964524077612605, 10.282249405166796, 18.542447294334647, 4.486494085883784, 7.06880232899542, 11.93182256842496, 6.951408542024616, 4.500904895455735, 8.163137231352232, 5.468860842710032, 8.636398386570779, 4.79790245731127, 6.09503625595161, 8.37758873472833, 6.042484178730252, 6.578608314954279, 5.659194882450555, 5.532758359746017, 5.874559483630994, 5.025028917967682, 5.18085601261275, 5.111181145502272, 5.149800602429791, 4.9142604476471465, 4.685438053839185, 4.51272894474995], \"Total\": [944.0, 2013.0, 361.0, 285.0, 173.0, 1120.0, 349.0, 258.0, 367.0, 328.0, 286.0, 235.0, 436.0, 257.0, 197.0, 885.0, 562.0, 403.0, 109.0, 292.0, 373.0, 374.0, 399.0, 254.0, 961.0, 116.0, 194.0, 428.0, 351.0, 447.0, 37.13708595555569, 26.300386291078212, 21.440940353126784, 19.487379499376495, 21.43453623684874, 13.57681462086081, 14.558563047634427, 12.594013870553031, 111.15275248258317, 27.244794439167762, 11.641252872492661, 9.680166571935754, 11.60459020459544, 48.8586252183529, 23.32334637757832, 27.148604729686213, 8.699657116192578, 31.12292023504351, 8.693680356221995, 8.695298293123464, 10.611809283504414, 7.7201715827507575, 7.72034129373433, 8.692909855146373, 7.713272060570183, 9.629193636357714, 10.63829041484737, 9.636123000875267, 12.559810181144272, 41.77221056741234, 95.32629061479973, 47.69009906201283, 23.217858040148233, 99.7307588040484, 64.95192774313051, 52.10035111093547, 23.37320060377721, 403.0460463424396, 29.15911775322774, 66.2606469426198, 61.91702283649926, 199.87801335322152, 52.55769620570127, 144.18227498106594, 34.60607624963938, 447.96924306687526, 36.62952507321171, 408.09345919278775, 944.1036853085965, 139.43655349576133, 190.266974785745, 90.860003449518, 393.16264576566715, 216.08700207632265, 234.77023822257212, 110.6846457238379, 90.53033008692077, 436.9144328585858, 85.03383740238795, 367.78963726278107, 98.05913536747475, 182.99164019341552, 157.87096509741252, 885.9570482814728, 96.8172580800569, 961.0942121632039, 720.7917789267918, 2013.5600714503094, 148.04213366591497, 151.91809601164576, 105.27431961059241, 257.49422992190455, 584.4904758420809, 280.5764611117084, 397.947951587761, 562.7631177519252, 1120.4860373019385, 233.82025703142384, 237.11671526809408, 391.0547862307938, 411.8429357166828, 263.02815735707975, 421.52756970618265, 351.7152910419243, 34.38060703177766, 24.518062570265904, 25.496298985388936, 22.53948733283968, 116.72063006004825, 14.66477427551476, 22.456692436616578, 67.23280071076888, 13.657653231923494, 13.673206367195075, 14.602289353551853, 9.734889246034449, 19.4967745515003, 17.4682750465367, 24.245206608057007, 7.760944929610238, 32.86263870908285, 14.30291535960106, 8.666960260228075, 6.775218879084515, 9.664922884098965, 6.775117816510478, 6.773994902810966, 6.772567755264922, 6.771813924888741, 11.625355614974552, 8.621267530843607, 6.772473091095552, 48.64900989823352, 6.747991265306598, 16.551660979722577, 94.70847912034478, 73.91734728247695, 47.70605483631421, 107.02760679079847, 328.493947701082, 286.19262156353835, 235.33542277090496, 51.741195991453885, 99.80839222998758, 114.35456464209773, 36.460019365194604, 285.36221825524643, 292.17295090257403, 361.4917109446282, 244.9821190883636, 165.75631130221223, 180.20219627568275, 128.60134916035037, 186.7027253677445, 73.2064400810842, 137.52170367116776, 532.5445211070489, 276.5816096465862, 2013.5600714503094, 349.3730646320944, 252.54552599709248, 374.5573005274652, 193.04169212584645, 1120.4860373019385, 373.15413639541816, 421.52756970618265, 204.1202265133105, 961.0942121632039, 720.7917789267918, 351.7152910419243, 885.9570482814728, 562.7631177519252, 584.4904758420809, 311.92575913082334, 399.3561012104698, 428.2743964151023, 411.8429357166828, 391.0547862307938, 254.80279894294145, 9.046097660296054, 9.962097541522832, 7.220092802460396, 6.312305772455255, 6.3092299750145004, 6.304939680326983, 5.4033552041239, 7.238830978188435, 5.403628525591727, 5.397447402520807, 5.394966721349815, 5.404884367823103, 4.493804548029536, 4.492903849974182, 4.490459672003069, 7.887635197097627, 4.493665624136781, 4.491712108504243, 4.494337790747283, 4.492753578505413, 4.494992246784736, 5.416228837768157, 7.856939265043489, 7.842728587977817, 16.10979429100081, 6.339240406765797, 4.497245329852685, 6.93290927069449, 3.583984092797879, 3.5843624139576358, 19.26579813541997, 8.205783592982767, 21.355293460336128, 69.02062266124827, 11.926768511219858, 138.61679243797033, 12.654292604413389, 134.79359051722105, 138.30702376678502, 397.947951587761, 428.2743964151023, 257.49422992190455, 82.13489904008264, 108.21888827947704, 367.78963726278107, 263.02815735707975, 1120.4860373019385, 436.9144328585858, 16.922658223467298, 111.33854427221289, 74.22984631746677, 41.94123775030161, 2013.5600714503094, 944.1036853085965, 77.37033743088263, 116.81869111114301, 38.80857219200291, 961.0942121632039, 201.28235186159824, 73.85453768942445, 584.4904758420809, 532.5445211070489, 243.76240996020792, 411.8429357166828, 210.49285093260914, 391.0547862307938, 885.9570482814728, 399.3561012104698, 297.13925237099596, 720.7917789267918, 447.96924306687526, 315.2318756239863, 273.51713835154953, 562.7631177519252, 349.3730646320944, 421.52756970618265, 4.812949516117331, 4.812066084281782, 4.820076176485788, 4.021609565077734, 4.021776238932618, 4.024941275441488, 4.037326238582338, 5.663504032005828, 3.230785992367027, 3.2310264625509784, 3.2305210668570137, 8.130953070269523, 3.2365222736597903, 3.237854653410934, 3.2382959297993463, 4.886774515972174, 5.434291082273744, 5.721071846946761, 2.439415381530134, 2.4395648963718966, 2.4396662024470097, 2.4394533920223567, 2.439264134227766, 2.4392844359128336, 2.43976031035445, 2.4395284881152177, 2.4395903514750454, 2.4394351785499, 2.439176063520423, 2.439543183704118, 7.316874456117543, 5.004500042250614, 173.03348961813822, 9.329150838309914, 7.499326700989348, 20.992082185101868, 6.783377321561913, 4.973736538763801, 3.852774423742697, 36.11199108375905, 10.995706176291453, 38.94655589595294, 40.03433825093826, 258.3931637295496, 285.36221825524643, 109.08326243234353, 19.732385503816356, 12.881251204120147, 30.188160104436978, 197.33323801413343, 361.4917109446282, 70.62027308745724, 2013.5600714503094, 62.84944176507148, 136.72485755341222, 41.30167698723237, 562.7631177519252, 44.763734578002385, 174.19630330302758, 399.3561012104698, 66.11701972281837, 1120.4860373019385, 122.43543843963091, 349.3730646320944, 885.9570482814728, 286.19262156353835, 373.15413639541816, 961.0942121632039, 374.5573005274652, 173.6849824744979, 328.493947701082, 292.17295090257403, 254.80279894294145, 163.61447056015948, 351.7152910419243, 421.52756970618265, 944.1036853085965, 165.75631130221223, 532.5445211070489, 720.7917789267918, 315.2318756239863, 5.2088710973009995, 4.587527287608448, 3.9669245224199745, 3.9745228927749077, 3.3513722461642144, 2.7223871638356907, 2.7224464751777937, 2.7225140655581237, 2.722574060036515, 2.7224393759785155, 2.801088538423707, 2.10047245229063, 2.1008038009165984, 2.100800021567527, 2.1008227971499833, 2.1004879310496936, 2.1008173947528856, 2.100846298707652, 2.1008529498001822, 2.100526205829781, 2.1008751851835212, 2.100870580036019, 2.1008971558601135, 2.100923686068629, 2.100953441568035, 2.1009532506767616, 2.100965102605338, 2.100978115635314, 2.100853711452807, 2.100992715541529, 5.784097516685694, 2.8648679551161376, 5.980348391473443, 3.6282445574228688, 3.629138676459103, 6.704069634712706, 6.251139696518754, 23.811027945195516, 944.1036853085965, 8.19867688199139, 6.98113811350084, 7.274761785170431, 116.81869111114301, 4.640034076222824, 11.531055528948855, 53.42984544664576, 349.3730646320944, 62.87529206242826, 30.765805977372224, 42.36539041904336, 361.4917109446282, 2013.5600714503094, 44.45952372647773, 194.66786722051242, 1120.4860373019385, 210.49285093260914, 51.08459573420318, 411.8429357166828, 136.37577584113967, 885.9570482814728, 86.75052544387178, 254.80279894294145, 961.0942121632039, 351.7152910419243, 584.4904758420809, 263.02815735707975, 235.33542277090496, 367.78963726278107, 258.3931637295496, 373.15413639541816, 374.5573005274652, 428.2743964151023, 257.49422992190455, 421.52756970618265, 436.9144328585858], \"Category\": [\"Default\", \"Default\", \"Default\", \"Default\", \"Default\", \"Default\", \"Default\", \"Default\", \"Default\", \"Default\", \"Default\", \"Default\", \"Default\", \"Default\", \"Default\", \"Default\", \"Default\", \"Default\", \"Default\", \"Default\", \"Default\", \"Default\", \"Default\", \"Default\", \"Default\", \"Default\", \"Default\", \"Default\", \"Default\", \"Default\", \"Topic1\", \"Topic1\", \"Topic1\", \"Topic1\", \"Topic1\", \"Topic1\", \"Topic1\", \"Topic1\", \"Topic1\", \"Topic1\", \"Topic1\", \"Topic1\", \"Topic1\", \"Topic1\", \"Topic1\", \"Topic1\", \"Topic1\", \"Topic1\", \"Topic1\", \"Topic1\", \"Topic1\", \"Topic1\", \"Topic1\", \"Topic1\", \"Topic1\", \"Topic1\", \"Topic1\", \"Topic1\", \"Topic1\", \"Topic1\", \"Topic1\", \"Topic1\", \"Topic1\", \"Topic1\", \"Topic1\", \"Topic1\", \"Topic1\", \"Topic1\", \"Topic1\", \"Topic1\", \"Topic1\", \"Topic1\", \"Topic1\", \"Topic1\", \"Topic1\", \"Topic1\", \"Topic1\", \"Topic1\", \"Topic1\", \"Topic1\", \"Topic1\", \"Topic1\", \"Topic1\", \"Topic1\", \"Topic1\", \"Topic1\", \"Topic1\", \"Topic1\", \"Topic1\", \"Topic1\", \"Topic1\", \"Topic1\", \"Topic1\", \"Topic1\", \"Topic1\", \"Topic1\", \"Topic1\", \"Topic1\", \"Topic1\", \"Topic1\", \"Topic1\", \"Topic1\", \"Topic1\", \"Topic1\", \"Topic1\", \"Topic1\", \"Topic1\", \"Topic1\", \"Topic1\", \"Topic1\", \"Topic1\", \"Topic1\", \"Topic1\", \"Topic1\", \"Topic2\", \"Topic2\", \"Topic2\", \"Topic2\", \"Topic2\", \"Topic2\", \"Topic2\", \"Topic2\", \"Topic2\", \"Topic2\", \"Topic2\", \"Topic2\", \"Topic2\", \"Topic2\", \"Topic2\", \"Topic2\", \"Topic2\", \"Topic2\", \"Topic2\", \"Topic2\", \"Topic2\", \"Topic2\", \"Topic2\", \"Topic2\", \"Topic2\", \"Topic2\", \"Topic2\", \"Topic2\", \"Topic2\", \"Topic2\", \"Topic2\", \"Topic2\", \"Topic2\", \"Topic2\", \"Topic2\", \"Topic2\", \"Topic2\", \"Topic2\", \"Topic2\", \"Topic2\", \"Topic2\", \"Topic2\", \"Topic2\", \"Topic2\", \"Topic2\", \"Topic2\", \"Topic2\", \"Topic2\", \"Topic2\", \"Topic2\", \"Topic2\", \"Topic2\", \"Topic2\", \"Topic2\", \"Topic2\", \"Topic2\", \"Topic2\", \"Topic2\", \"Topic2\", \"Topic2\", \"Topic2\", \"Topic2\", \"Topic2\", \"Topic2\", \"Topic2\", \"Topic2\", \"Topic2\", \"Topic2\", \"Topic2\", \"Topic2\", \"Topic2\", \"Topic2\", \"Topic2\", \"Topic2\", \"Topic2\", \"Topic3\", \"Topic3\", \"Topic3\", \"Topic3\", \"Topic3\", \"Topic3\", \"Topic3\", \"Topic3\", \"Topic3\", \"Topic3\", \"Topic3\", \"Topic3\", \"Topic3\", \"Topic3\", \"Topic3\", \"Topic3\", \"Topic3\", \"Topic3\", \"Topic3\", \"Topic3\", \"Topic3\", \"Topic3\", \"Topic3\", \"Topic3\", \"Topic3\", \"Topic3\", \"Topic3\", \"Topic3\", \"Topic3\", \"Topic3\", \"Topic3\", \"Topic3\", \"Topic3\", \"Topic3\", \"Topic3\", \"Topic3\", \"Topic3\", \"Topic3\", \"Topic3\", \"Topic3\", \"Topic3\", \"Topic3\", \"Topic3\", \"Topic3\", \"Topic3\", \"Topic3\", \"Topic3\", \"Topic3\", \"Topic3\", \"Topic3\", \"Topic3\", \"Topic3\", \"Topic3\", \"Topic3\", \"Topic3\", \"Topic3\", \"Topic3\", \"Topic3\", \"Topic3\", \"Topic3\", \"Topic3\", \"Topic3\", \"Topic3\", \"Topic3\", \"Topic3\", \"Topic3\", \"Topic3\", \"Topic3\", \"Topic3\", \"Topic3\", \"Topic3\", \"Topic3\", \"Topic3\", \"Topic3\", \"Topic3\", \"Topic3\", \"Topic4\", \"Topic4\", \"Topic4\", \"Topic4\", \"Topic4\", \"Topic4\", \"Topic4\", \"Topic4\", \"Topic4\", \"Topic4\", \"Topic4\", \"Topic4\", \"Topic4\", \"Topic4\", \"Topic4\", \"Topic4\", \"Topic4\", \"Topic4\", \"Topic4\", \"Topic4\", \"Topic4\", \"Topic4\", \"Topic4\", \"Topic4\", \"Topic4\", \"Topic4\", \"Topic4\", \"Topic4\", \"Topic4\", \"Topic4\", \"Topic4\", \"Topic4\", \"Topic4\", \"Topic4\", \"Topic4\", \"Topic4\", \"Topic4\", \"Topic4\", \"Topic4\", \"Topic4\", \"Topic4\", \"Topic4\", \"Topic4\", \"Topic4\", \"Topic4\", \"Topic4\", \"Topic4\", \"Topic4\", \"Topic4\", \"Topic4\", \"Topic4\", \"Topic4\", \"Topic4\", \"Topic4\", \"Topic4\", \"Topic4\", \"Topic4\", \"Topic4\", \"Topic4\", \"Topic4\", \"Topic4\", \"Topic4\", \"Topic4\", \"Topic4\", \"Topic4\", \"Topic4\", \"Topic4\", \"Topic4\", \"Topic4\", \"Topic4\", \"Topic4\", \"Topic4\", \"Topic4\", \"Topic4\", \"Topic4\", \"Topic4\", \"Topic4\", \"Topic4\", \"Topic4\", \"Topic4\", \"Topic4\", \"Topic5\", \"Topic5\", \"Topic5\", \"Topic5\", \"Topic5\", \"Topic5\", \"Topic5\", \"Topic5\", \"Topic5\", \"Topic5\", \"Topic5\", \"Topic5\", \"Topic5\", \"Topic5\", \"Topic5\", \"Topic5\", \"Topic5\", \"Topic5\", \"Topic5\", \"Topic5\", \"Topic5\", \"Topic5\", \"Topic5\", \"Topic5\", \"Topic5\", \"Topic5\", \"Topic5\", \"Topic5\", \"Topic5\", \"Topic5\", \"Topic5\", \"Topic5\", \"Topic5\", \"Topic5\", \"Topic5\", \"Topic5\", \"Topic5\", \"Topic5\", \"Topic5\", \"Topic5\", \"Topic5\", \"Topic5\", \"Topic5\", \"Topic5\", \"Topic5\", \"Topic5\", \"Topic5\", \"Topic5\", \"Topic5\", \"Topic5\", \"Topic5\", \"Topic5\", \"Topic5\", \"Topic5\", \"Topic5\", \"Topic5\", \"Topic5\", \"Topic5\", \"Topic5\", \"Topic5\", \"Topic5\", \"Topic5\", \"Topic5\", \"Topic5\", \"Topic5\", \"Topic5\", \"Topic5\", \"Topic5\", \"Topic5\", \"Topic5\", \"Topic5\", \"Topic5\", \"Topic5\", \"Topic5\", \"Topic5\"], \"logprob\": [30.0, 29.0, 28.0, 27.0, 26.0, 25.0, 24.0, 23.0, 22.0, 21.0, 20.0, 19.0, 18.0, 17.0, 16.0, 15.0, 14.0, 13.0, 12.0, 11.0, 10.0, 9.0, 8.0, 7.0, 6.0, 5.0, 4.0, 3.0, 2.0, 1.0, -6.6415, -6.9969, -7.2054, -7.3023, -7.2138, -7.6836, -7.6177, -7.7699, -5.5937, -7.0002, -7.8528, -8.0388, -7.8593, -6.424, -7.1668, -7.0158, -8.1544, -6.8798, -8.1565, -8.1582, -7.9601, -8.2823, -8.2826, -8.1639, -8.2868, -8.0657, -7.9665, -8.0665, -7.8018, -6.6056, -5.7859, -6.4806, -7.1942, -5.7546, -6.1787, -6.4027, -7.1893, -4.4093, -6.9777, -6.1824, -6.2489, -5.1297, -6.414, -5.4512, -6.8169, -4.4113, -6.7656, -4.516, -3.7567, -5.5381, -5.2562, -5.9333, -4.6113, -5.1505, -5.0797, -5.7605, -5.946, -4.6054, -6.0161, -4.7569, -5.8957, -5.3889, -5.5434, -4.2128, -5.9338, -4.213, -4.4569, -3.7418, -5.623, -5.6079, -5.872, -5.2841, -4.7516, -5.2394, -5.028, -4.8203, -4.4005, -5.3867, -5.4191, -5.2521, -5.2684, -5.482, -5.4662, -5.5214, -6.622, -6.9686, -6.931, -7.0549, -5.4147, -7.4993, -7.0785, -5.9831, -7.5806, -7.5826, -7.5225, -7.9324, -7.2444, -7.3583, -7.0332, -8.1772, -6.7371, -7.5708, -8.0742, -8.3262, -7.9716, -8.3269, -8.3271, -8.329, -8.331, -7.7908, -8.0908, -8.3327, -6.3616, -8.3385, -7.4491, -5.7241, -5.9734, -6.4144, -5.6226, -4.5716, -4.7071, -4.8979, -6.3626, -5.7391, -5.6267, -6.7102, -4.7921, -4.8047, -4.6148, -4.995, -5.3565, -5.2828, -5.5896, -5.2651, -6.1156, -5.5824, -4.463, -5.0124, -3.3861, -4.8529, -5.1194, -4.8471, -5.3659, -4.0377, -4.8688, -4.7948, -5.3364, -4.3768, -4.5589, -5.0179, -4.5073, -4.8065, -4.8038, -5.1294, -5.0341, -5.0144, -5.0734, -5.1422, -5.3046, -7.4799, -7.3837, -7.7223, -7.8643, -7.8698, -7.8714, -8.0397, -7.7517, -8.0455, -8.0476, -8.0491, -8.0532, -8.2542, -8.255, -8.2565, -7.6943, -8.2581, -8.2591, -8.2644, -8.2667, -8.2681, -8.0823, -7.7148, -7.7174, -6.9978, -7.9351, -8.2798, -7.8663, -8.5262, -8.5263, -6.8543, -7.718, -6.8069, -5.8095, -7.3926, -5.3026, -7.3992, -5.4419, -5.4386, -4.586, -4.5931, -5.0008, -5.9474, -5.7485, -4.8344, -5.1286, -4.0708, -4.7835, -7.191, -5.7973, -6.1045, -6.534, -3.7493, -4.3857, -6.1201, -5.8501, -6.6152, -4.4448, -5.51, -6.1836, -4.8273, -4.9086, -5.4167, -5.1028, -5.5298, -5.1555, -4.691, -5.1771, -5.356, -4.913, -5.2439, -5.4185, -5.4873, -5.2693, -5.4494, -5.459, -7.1948, -7.1951, -7.2054, -7.4064, -7.4073, -7.4157, -7.4299, -7.0976, -7.6786, -7.6803, -7.6836, -6.7648, -7.6952, -7.6959, -7.6986, -7.2976, -7.1937, -7.1953, -8.0525, -8.0534, -8.0534, -8.0535, -8.0537, -8.0538, -8.0537, -8.0538, -8.0539, -8.0541, -8.0544, -8.0543, -7.0426, -7.4061, -4.296, -6.8916, -7.0904, -6.2574, -7.203, -7.4681, -7.6788, -5.8753, -6.8356, -5.8301, -5.8141, -4.4622, -4.4963, -5.2073, -6.4357, -6.7595, -6.1953, -4.9835, -4.5968, -5.7294, -3.6954, -5.81, -5.3721, -6.0708, -4.6156, -6.0444, -5.3257, -4.8818, -5.8615, -4.3353, -5.5607, -5.075, -4.6514, -5.2134, -5.0989, -4.6679, -5.1279, -5.5041, -5.2448, -5.3134, -5.3715, -5.5424, -5.2853, -5.2755, -5.2951, -5.6096, -5.458, -5.4733, -5.5675, -6.0013, -6.151, -6.3282, -6.3344, -6.5473, -6.8122, -6.8123, -6.8123, -6.8124, -6.8131, -6.8931, -7.1868, -7.1869, -7.1869, -7.1869, -7.1871, -7.1869, -7.187, -7.187, -7.1872, -7.187, -7.187, -7.187, -7.1871, -7.1871, -7.1871, -7.1871, -7.1872, -7.1872, -7.1872, -6.3299, -6.9472, -6.4443, -6.812, -6.8125, -6.4131, -6.5753, -5.8316, -4.045, -6.5111, -6.6081, -6.6135, -5.4499, -6.84, -6.4486, -5.8358, -5.0736, -5.7865, -6.0996, -5.9729, -5.1678, -4.5781, -5.9971, -5.5425, -5.019, -5.5592, -5.9939, -5.3985, -5.7991, -5.3422, -5.93, -5.6907, -5.3726, -5.6994, -5.6144, -5.7649, -5.7875, -5.7275, -5.8837, -5.8532, -5.8667, -5.8592, -5.906, -5.9537, -5.9913], \"loglift\": [30.0, 29.0, 28.0, 27.0, 26.0, 25.0, 24.0, 23.0, 22.0, 21.0, 20.0, 19.0, 18.0, 17.0, 16.0, 15.0, 14.0, 13.0, 12.0, 11.0, 10.0, 9.0, 8.0, 7.0, 6.0, 5.0, 4.0, 3.0, 2.0, 1.0, 0.9693, 0.959, 0.9547, 0.9534, 0.9466, 0.9335, 0.9296, 0.9222, 0.9208, 0.9204, 0.9181, 0.9165, 0.9147, 0.9125, 0.9092, 0.9083, 0.9077, 0.9076, 0.9063, 0.9044, 0.9034, 0.8993, 0.899, 0.899, 0.8957, 0.8949, 0.8945, 0.8934, 0.8932, 0.8875, 0.8822, 0.8801, 0.8863, 0.8684, 0.8731, 0.8696, 0.8846, 0.817, 0.8749, 0.8494, 0.8507, 0.798, 0.8495, 0.8032, 0.8645, 0.7094, 0.859, 0.698, 0.6185, 0.7497, 0.7208, 0.7828, 0.6399, 0.6993, 0.6871, 0.7583, 0.7738, 0.5402, 0.7662, 0.561, 0.7442, 0.6271, 0.6203, 0.226, 0.7188, 0.1443, 0.1881, -0.1241, 0.6049, 0.5942, 0.6968, 0.3903, 0.1031, 0.3492, 0.2111, 0.0723, -0.1966, 0.3841, 0.3377, 0.0045, -0.0637, 0.1711, -0.2846, -0.1588, 1.0659, 1.0574, 1.0559, 1.0552, 1.051, 1.0407, 1.0353, 1.0342, 1.0305, 1.0273, 1.0217, 1.0173, 1.0108, 1.0067, 1.0039, 0.9991, 0.996, 0.9942, 0.9917, 0.986, 0.9853, 0.9852, 0.9852, 0.9836, 0.9817, 0.9814, 0.9804, 0.9799, 0.9792, 0.9777, 0.9699, 0.9505, 0.949, 0.946, 0.9298, 0.8593, 0.8616, 0.8665, 0.9166, 0.8831, 0.8594, 0.919, 0.7795, 0.7434, 0.7204, 0.7293, 0.7584, 0.7485, 0.7791, 0.7308, 0.8165, 0.7192, 0.4847, 0.5905, 0.2317, 0.5164, 0.5745, 0.4526, 0.5966, 0.1662, 0.4347, 0.3867, 0.5703, -0.0195, 0.0861, 0.3447, -0.0686, 0.0861, 0.0509, 0.3533, 0.2015, 0.1513, 0.1313, 0.1144, 0.3803, 1.5432, 1.5429, 1.5262, 1.5186, 1.5136, 1.5127, 1.4987, 1.4943, 1.4928, 1.4919, 1.4909, 1.4849, 1.4685, 1.4679, 1.467, 1.4658, 1.4647, 1.4641, 1.4582, 1.4562, 1.4544, 1.4537, 1.4492, 1.4484, 1.4482, 1.4436, 1.4422, 1.4228, 1.4227, 1.4225, 1.4128, 1.4026, 1.3572, 1.1816, 1.354, 0.9911, 1.2883, 0.8798, 0.8573, 0.6531, 0.5726, 0.6736, 0.8696, 0.7927, 0.4835, 0.5245, 0.1331, 0.3622, 1.2058, 0.7155, 0.8138, 0.9552, -0.1316, -0.0105, 0.7568, 0.6147, 0.9516, -0.0874, 0.4107, 0.7398, 0.0274, 0.0392, 0.3125, 0.1019, 0.3461, 0.1011, -0.2523, 0.0585, 0.1752, -0.2679, -0.1232, 0.0536, 0.1267, -0.3767, -0.0801, -0.2774, 2.4593, 2.4592, 2.4473, 2.4273, 2.4264, 2.4172, 2.4, 2.3938, 2.3741, 2.3724, 2.3692, 2.365, 2.3557, 2.3546, 2.3518, 2.3413, 2.339, 2.2859, 2.2811, 2.2802, 2.2801, 2.2801, 2.28, 2.2799, 2.2799, 2.2798, 2.2797, 2.2796, 2.2794, 2.2793, 2.1926, 2.209, 1.7759, 2.1006, 2.1202, 1.9239, 2.1079, 2.1531, 2.1978, 1.7635, 1.9923, 1.7331, 1.7216, 1.2087, 1.0753, 1.326, 1.8074, 1.9101, 1.6227, 0.957, 0.7383, 1.2387, -0.0776, 1.2747, 0.9353, 1.4337, 0.2769, 1.3796, 0.7396, 0.3538, 1.1725, -0.1314, 0.8571, 0.2943, -0.2127, 0.3554, 0.2046, -0.3106, 0.1718, 0.5641, 0.1861, 0.2346, 0.3134, 0.5855, 0.0773, -0.094, -0.9199, 0.5053, -0.5103, -0.8283, -0.0954, 3.5737, 3.5511, 3.5192, 3.5112, 3.4687, 3.4117, 3.4116, 3.4116, 3.4115, 3.4108, 3.3023, 3.2964, 3.2962, 3.2962, 3.2962, 3.2962, 3.2962, 3.2961, 3.2961, 3.2961, 3.296, 3.296, 3.296, 3.296, 3.2959, 3.2959, 3.2959, 3.2959, 3.2958, 3.2958, 3.1404, 3.2257, 2.9927, 3.1247, 3.1239, 2.9096, 2.8173, 2.2236, 0.3301, 2.6103, 2.6741, 2.6275, 1.0149, 2.8507, 2.3317, 1.4112, 0.2957, 1.2978, 1.6994, 1.5062, 0.1674, -0.9604, 1.4337, 0.4116, -0.8151, 0.3167, 1.298, -0.1938, 0.5109, -0.9034, 0.8324, -0.0058, -1.0153, -0.3368, -0.7597, -0.1117, -0.0231, -0.4096, -0.2128, -0.5498, -0.5671, -0.6936, -0.2316, -0.7722, -0.8456]}, \"token.table\": {\"Topic\": [1, 2, 3, 4, 5, 4, 1, 2, 3, 4, 1, 2, 3, 4, 5, 1, 2, 3, 4, 5, 1, 2, 3, 4, 5, 3, 1, 2, 3, 4, 5, 3, 5, 2, 3, 5, 1, 2, 3, 4, 3, 1, 2, 3, 4, 5, 1, 3, 4, 1, 2, 3, 4, 5, 1, 2, 3, 4, 5, 1, 2, 3, 3, 5, 2, 3, 4, 1, 4, 5, 1, 3, 1, 2, 3, 4, 5, 1, 2, 3, 4, 5, 1, 2, 3, 4, 5, 2, 1, 2, 4, 3, 5, 1, 2, 3, 4, 5, 1, 3, 1, 2, 3, 4, 5, 1, 3, 4, 4, 1, 2, 3, 4, 5, 1, 2, 3, 5, 5, 3, 1, 2, 3, 4, 5, 1, 2, 3, 4, 5, 1, 2, 3, 4, 5, 1, 2, 3, 4, 5, 2, 1, 2, 3, 5, 1, 2, 3, 1, 2, 3, 4, 1, 2, 3, 4, 5, 1, 3, 5, 4, 5, 2, 3, 4, 5, 1, 2, 3, 4, 5, 2, 4, 1, 2, 3, 4, 5, 1, 3, 1, 3, 4, 1, 2, 3, 4, 5, 3, 1, 2, 4, 1, 2, 3, 4, 5, 4, 4, 1, 4, 1, 2, 3, 4, 5, 2, 4, 1, 2, 3, 3, 1, 2, 3, 4, 5, 1, 4, 5, 1, 2, 3, 4, 5, 1, 2, 3, 4, 5, 1, 3, 4, 5, 1, 2, 3, 4, 5, 1, 2, 3, 1, 2, 3, 4, 5, 1, 3, 4, 3, 1, 2, 3, 2, 4, 1, 2, 3, 4, 3, 4, 2, 3, 4, 3, 1, 2, 3, 4, 5, 4, 3, 1, 2, 3, 4, 5, 2, 3, 1, 2, 3, 1, 2, 3, 1, 2, 3, 4, 5, 1, 1, 2, 4, 4, 5, 1, 2, 3, 4, 5, 1, 2, 4, 1, 4, 1, 3, 4, 5, 1, 2, 3, 4, 5, 1, 2, 3, 4, 1, 2, 3, 4, 5, 3, 5, 5, 1, 2, 3, 4, 5, 1, 1, 3, 1, 2, 3, 4, 5, 5, 1, 2, 3, 4, 5, 1, 2, 3, 4, 5, 5, 1, 2, 3, 4, 5, 1, 2, 3, 4, 1, 2, 3, 4, 5, 1, 3, 4, 5, 3, 5, 1, 2, 3, 4, 1, 2, 3, 4, 1, 2, 3, 4, 5, 2, 1, 5, 4, 2, 4, 1, 2, 3, 4, 5, 2, 1, 3, 5, 1, 3, 5, 2, 3, 5, 1, 2, 3, 1, 3, 2, 3, 2, 3, 4, 5, 1, 2, 3, 4, 1, 2, 3, 4, 2, 4, 2, 2, 5, 1, 2, 3, 4, 5, 1, 3, 5, 2, 1, 2, 3, 4, 5, 2, 3, 4, 1, 2, 3, 4, 5, 4, 1, 2, 3, 4, 5, 2, 4, 5, 1, 2, 3, 4, 5, 1, 3, 4, 4, 2, 3, 1, 2, 3, 4, 1, 2, 3, 4, 5, 3, 4, 1, 2, 3, 4, 1, 2, 3, 4, 4, 1, 2, 3, 4, 5, 5, 1, 2, 3, 4, 5, 1, 3, 5, 3, 3, 3, 5, 1, 2, 3, 4, 5, 1, 2, 3, 4, 5, 1, 2, 3, 4, 5, 1, 2, 3, 4, 5, 1, 2, 3, 4, 5, 1, 3, 1, 2, 3, 4, 5, 1, 2, 4, 5, 1, 2, 3, 4, 5, 1, 2, 3, 4, 5, 1, 4, 4, 3, 1, 2, 3, 4, 1, 2, 3, 4, 5, 1, 3, 1, 2, 3, 4, 5, 1, 3, 1, 2, 3, 4, 5, 3, 1, 3, 2, 3, 4, 1, 2, 3, 5, 5, 2, 3, 5, 1, 2, 3, 1, 1, 2, 3, 5, 1, 2, 3, 4, 5, 2, 3, 4, 5, 2, 1, 2, 3, 4, 5, 3, 2, 4, 5, 1, 2, 3, 4, 5, 2, 2, 5, 1, 2, 3, 4, 5, 1, 2, 3, 4, 5, 5, 1, 2, 3, 4, 5, 2, 3, 4, 3, 1, 2, 3, 4, 5, 1, 2, 3, 4, 5, 4, 1, 2, 3, 4, 5, 1, 2, 3, 4, 5, 2, 3, 4, 1, 2, 3, 4, 5, 1, 2, 3, 4, 5, 4, 3, 5, 5, 2, 4, 2, 1, 2, 3, 4, 5, 2, 5, 1, 1, 3, 5, 1, 2, 3, 4, 5, 1, 2, 3, 4, 5, 1, 2, 3, 4, 5, 3, 4, 1, 2, 3, 4, 1, 2, 3, 4, 5, 4, 1, 4, 1, 2, 3, 2, 2, 1, 4, 4, 1, 3, 4, 5, 2, 1, 2, 3, 4, 5, 2, 1, 2, 3, 4, 5, 4, 1, 2, 3, 4, 5, 1, 2, 3, 4, 5, 1, 2, 3, 4, 5, 1, 2, 3, 4, 5, 1, 2, 3, 4, 5, 1, 2, 3, 4, 5, 5, 5, 4, 2, 5, 4, 5, 5, 3, 5, 5, 1, 2, 3, 4, 5, 1, 2, 2, 3, 1, 1, 2, 3, 4, 5, 5, 5, 1, 5, 1, 2, 3, 4, 5, 1, 2, 3, 4, 5, 1, 2, 3, 4, 1, 2, 3, 4, 5, 2, 1, 2, 3, 4, 1, 1, 5, 1, 2, 3, 4, 5, 1, 2, 3, 4, 5, 1, 2, 3, 4, 5, 1, 2, 3, 4, 5, 1, 2, 3, 4, 5, 3, 5, 3], \"Freq\": [0.05538326577898046, 0.30460796178439253, 0.16614979733694138, 0.41537449334235343, 0.05538326577898046, 0.819825618730499, 0.6940207752975251, 0.08197095771230611, 0.2131244900519959, 0.005464730514153741, 0.2679313016019469, 0.41066106039924566, 0.2078345610557158, 0.10266526509981141, 0.010016123424371847, 0.09796633358103717, 0.6980101267648898, 0.14694950037155574, 0.04898316679051858, 0.012245791697629646, 0.28942463573700344, 0.519892401231284, 0.08843530536408438, 0.08843530536408438, 0.013399288691527938, 0.951634798144307, 0.2601669892637724, 0.0867223297545908, 0.3468893190183632, 0.0867223297545908, 0.2601669892637724, 0.3457756364291047, 0.518663454643657, 0.21551565862939537, 0.21551565862939537, 0.43103131725879074, 0.06288509939238106, 0.8594296916958745, 0.02096169979746035, 0.02096169979746035, 0.828863115892442, 0.07081251866975577, 0.519291803578209, 0.2832500746790231, 0.02360417288991859, 0.11802086444959295, 0.32157267601254536, 0.10719089200418179, 0.6431453520250907, 0.3366185604311135, 0.4776777667070086, 0.13464742417244538, 0.04488247472414846, 0.00641178210344978, 0.18750009056938488, 0.42567588129265754, 0.17736495053860732, 0.18750009056938488, 0.02027028006155512, 0.8752286215127155, 0.057080127489959706, 0.07610683665327961, 0.9505242959208265, 0.47597173259086156, 0.9073958558344108, 0.0412452661742914, 0.0412452661742914, 0.28648623870256845, 0.28648623870256845, 0.28648623870256845, 0.9208576370285145, 0.03683430548114058, 0.30522468697915683, 0.3971490810108912, 0.22311746124207368, 0.06425782883771722, 0.010709638139619537, 0.2559254620090004, 0.45335367555880074, 0.22302075975070035, 0.0621533264879001, 0.003656078028700006, 0.1742260126220037, 0.5979119978618763, 0.21778251577750463, 0.007919364210091078, 0.003959682105045539, 0.8859269064286088, 0.9693813898883581, 0.29483838288675474, 0.5896767657735095, 0.2755474753518334, 0.5510949507036668, 0.45734624157215403, 0.14574770335815898, 0.374420824144236, 0.017590240060467464, 0.005025782874419275, 0.9317891695570019, 0.06426132203841392, 0.07469050930502732, 0.6915787898613641, 0.05255998802946367, 0.1521473337695001, 0.027663151594454562, 0.8823757189384563, 0.0902429712550694, 0.020053993612237645, 0.8197526582885672, 0.28834039504212167, 0.5286240575772231, 0.08276437265097937, 0.0854341911235916, 0.013349092363061189, 0.251984081233698, 0.209986734361415, 0.293981428105981, 0.209986734361415, 0.7140081338255327, 0.8901143690715115, 0.7045430255983616, 0.1500651209758243, 0.11699992482860878, 0.025434766267088866, 0.0025434766267088864, 0.6498279880279431, 0.01359472778301136, 0.3181166301224658, 0.002718945556602272, 0.016313673339613633, 0.0314473516152543, 0.7966662409197756, 0.0594005530510359, 0.10482450538418099, 0.0069883003589454, 0.01752159073675155, 0.7324024927962148, 0.02453022703145217, 0.2137634069883689, 0.01051295444205093, 0.9232296322888381, 0.9044761994705489, 0.04307029521288328, 0.8874649784229061, 0.1267807112032723, 0.0838450078962521, 0.1676900157925042, 0.754605071066269, 0.15891014964009587, 0.5989690255665151, 0.11001471898160482, 0.12835050547853896, 0.23583011463077608, 0.39227187384129086, 0.3455728412411372, 0.014009709780046103, 0.01167475815003842, 0.3199416581769554, 0.1599708290884777, 0.4799124872654331, 0.6179472380823268, 0.7346493645606645, 0.865831937331604, 0.04058587206241894, 0.08117174412483788, 0.013528624020806313, 0.7473778202750236, 0.0906655060661504, 0.12497137322631542, 0.03430586716016502, 0.0024504190828689297, 0.9159461914456285, 0.05724663696535178, 0.8255035020205769, 0.020012206109589745, 0.11507018513014103, 0.030018309164384614, 0.010006103054794872, 0.15774760631142995, 0.7887380315571497, 0.4122800478420342, 0.5153500598025428, 0.07730250897038142, 0.8322798347838417, 0.006935665289865348, 0.159520301666903, 0.7786596540696802, 0.25955321802322673, 0.8370572866181487, 0.9505563805532644, 0.9128907835300624, 0.06085938556867082, 0.12361685134914563, 0.6908000516569903, 0.10907369236689321, 0.06544421542013593, 0.014543158982252427, 0.9285666110623619, 0.745969978301962, 0.9202086656285294, 0.8199490106152619, 0.274722256939082, 0.4905754588197892, 0.10988890277563278, 0.09811509176395784, 0.023547622023349882, 0.8601887401292962, 0.8198619162280351, 0.9096956920361035, 0.023939360316739565, 0.07181808095021869, 0.925089171151653, 0.6362801937696094, 0.059508219561186494, 0.28151965407792073, 0.011443888377151249, 0.011443888377151249, 0.2983262568819823, 0.2983262568819823, 0.44748938532297344, 0.04566294175273353, 0.7945351864975634, 0.060883922336978036, 0.08828168738861815, 0.012176784467395606, 0.13005995210238067, 0.7084844759261263, 0.06160734573270664, 0.09241101859905995, 0.006845260636967404, 0.13334530416818285, 0.2666906083363657, 0.6667265208409143, 0.4760833682486381, 0.1452725515686636, 0.2905451031373272, 0.19369673542488478, 0.31475719506543776, 0.048424183856221194, 0.8916593506030187, 0.03429459040780841, 0.06858918081561682, 0.19162517734900375, 0.6074156565025024, 0.13016049782196482, 0.05784911014309547, 0.014462277535773867, 0.9202902288540175, 0.12298681241396615, 0.737920874483797, 0.8310142492843549, 0.8984648853185434, 0.04278404215802588, 0.04278404215802588, 0.1998201601673445, 0.5994604805020335, 0.7368906779231049, 0.012778451062250375, 0.22149315174567313, 0.02555690212450075, 0.9231515413703105, 0.7453524895641951, 0.0620740390557697, 0.8069625077250061, 0.1241480781115394, 0.9509876837206604, 0.5475850858590653, 0.019417910846066144, 0.3844746347521097, 0.0271850751844926, 0.019417910846066144, 0.8198557949664121, 0.8902928114125981, 0.018686767460934638, 0.850247919472526, 0.009343383730467319, 0.11212060476560783, 0.009343383730467319, 0.9805344695058154, 0.8903225894999264, 0.9356493445027018, 0.017993256625051957, 0.035986513250103914, 0.9021645492061998, 0.010490285455886044, 0.08392228364708836, 0.5431522555504337, 0.33358957427506947, 0.08553578827565884, 0.025660736482697653, 0.008553578827565885, 0.9297360673619338, 0.12489278500520282, 0.4496140260187302, 0.39965691201664905, 0.7360665704948534, 0.18401664262371334, 0.4306581990874036, 0.09787686342895537, 0.3132059629726572, 0.0783014907431643, 0.09787686342895537, 0.9616333668503646, 0.9351332596851449, 0.044530155223102136, 0.9794346541772604, 0.8198097679763093, 0.09365359477333637, 0.749228758186691, 0.09365359477333637, 0.04682679738666819, 0.5187318821489706, 0.21508395113493903, 0.18556262450857486, 0.0759119827535079, 0.004217332375194883, 0.33943267884378336, 0.3870166992424446, 0.20619742172753194, 0.06661762855812571, 0.32777765578387785, 0.42412442127186617, 0.17133832006884525, 0.0675420624039506, 0.009436023424081333, 0.9253509738141859, 0.4759811156545426, 0.4759971420632333, 0.7545160861625081, 0.05580740282267072, 0.1718868006938258, 0.015626072790347802, 0.002232296112906829, 0.9479007708211858, 0.9003853760962943, 0.04287549409982354, 0.2374000119531776, 0.27449376382086155, 0.46738127353281833, 0.0074187503735368, 0.0074187503735368, 0.47599210417283566, 0.27993424032086334, 0.4958157307378003, 0.14708409237197903, 0.06642507397444214, 0.011861620352578954, 0.1849303663414597, 0.4880106889566298, 0.22088904868563244, 0.07191736468834545, 0.035958682344172724, 0.734635275131204, 0.8410949644001118, 0.052103227883192764, 0.09676313749735799, 0.007443318269027537, 0.0024811060896758456, 0.1779601484772795, 0.4994365457265586, 0.16647884857551953, 0.15499754867375956, 0.7888892635555844, 0.1075758086666706, 0.09323236751111452, 0.01434344115555608, 0.00717172057777804, 0.09094459091278413, 0.2728337727383524, 0.5456675454767048, 0.7346333594563643, 0.2756153793310716, 0.5512307586621432, 0.8753310249178018, 0.06036765689088288, 0.06036765689088288, 0.8199194059946155, 0.36683137327109866, 0.3432733951711198, 0.232214355556934, 0.05721223252851997, 0.18126572085489656, 0.5927878979308779, 0.17636664731827773, 0.03919258829295061, 0.009798147073237652, 0.8855802457574234, 0.9067155988657243, 0.47607118503192636, 0.8185358229495147, 0.756234933298785, 0.24199517865561118, 0.20467772304447288, 0.5464331872104735, 0.2027999457688355, 0.04318887733965941, 0.0018777772756373658, 0.8855934557150326, 0.8929681075729771, 0.09237601112823901, 0.47599696949316295, 0.8829115163169207, 0.07677491446234093, 0.019193728615585232, 0.6098545011552573, 0.12197090023105146, 0.3659127006931544, 0.9016546588440894, 0.04193742599274834, 0.04193742599274834, 0.8758094144220447, 0.07961903767473134, 0.9587537721675572, 0.8907774019081017, 0.1772771133461636, 0.6500160822692665, 0.11818474223077574, 0.05909237111538787, 0.3603807119075356, 0.16632955934193952, 0.4343049605039532, 0.03696212429820878, 0.15183610656976074, 0.2964419223504852, 0.4627386104983184, 0.09399378025747092, 0.47637008619835836, 0.47637008619835836, 0.889153492365611, 0.9230456538160562, 0.47596878451901936, 0.38521232836949304, 0.1455246573840307, 0.3595315064781935, 0.03424109585506605, 0.0684821917101321, 0.16721433845321831, 0.33442867690643663, 0.5016430153596549, 0.9279377970094365, 0.39981298152375283, 0.3660509964173026, 0.13327099384125093, 0.09595511556570069, 0.0035538931691000255, 0.951916316491467, 0.014873692445179172, 0.029747384890358344, 0.7620870629980898, 0.05255772848262688, 0.1366500940548299, 0.03153463708957613, 0.010511545696525376, 0.8298624033191758, 0.17202897989419938, 0.7103132073050813, 0.08323982898106422, 0.016647965796212843, 0.02219728772828379, 0.27334075662974183, 0.6833518915743546, 0.13667037831487092, 0.27060485788920174, 0.420301162253441, 0.1727265050356607, 0.12666610369281783, 0.0057575501678553565, 0.101356219683281, 0.405424878733124, 0.4561029885747645, 0.819868569798675, 0.9062534580895829, 0.060416897205972195, 0.745070265462493, 0.0231388281199532, 0.2082494530795788, 0.01851106249596256, 0.19387274888648345, 0.3231212481441391, 0.41359519762449803, 0.051699399703062254, 0.012924849925765564, 0.17479242120227576, 0.699169684809103, 0.16992287731794828, 0.2690445557534181, 0.29736503530640945, 0.2548843159769224, 0.322929454067061, 0.3527383267501743, 0.2931205813839477, 0.029808872683113323, 0.8198183221009556, 0.06998371369166653, 0.730941009668517, 0.10886355463148127, 0.07775968187962948, 0.007775968187962948, 0.4760039739461221, 0.1113772820157369, 0.46142016835091004, 0.12728832230369932, 0.25457664460739865, 0.03182208057592483, 0.8957964426932985, 0.08668997832515792, 0.028896659441719305, 0.9263638211026968, 0.8898791767352205, 0.9253041685452411, 0.754807578402317, 0.08015358048815847, 0.8115550024426046, 0.08015358048815847, 0.01001919756101981, 0.02003839512203962, 0.5274854469743827, 0.2352299966237112, 0.1746404520388159, 0.05702545372696029, 0.003564090857935018, 0.7409214354319309, 0.05699395657168699, 0.16148287695311314, 0.028496978285843494, 0.00949899276194783, 0.34721974713771303, 0.38364139893537524, 0.21610180066612908, 0.03156543155797391, 0.019424880958753176, 0.814439766570277, 0.06603565674894138, 0.09905348512341206, 0.011005942791490229, 0.011005942791490229, 0.1557163621726385, 0.7785818108631926, 0.34303793521929427, 0.38387578465016264, 0.08167569886173673, 0.17151896760964713, 0.02450270965852102, 0.1656278482260041, 0.43063240538761066, 0.36438126609720906, 0.033125569645200824, 0.10777336067470138, 0.41762177261446787, 0.4445651127831432, 0.013471670084337672, 0.013471670084337672, 0.4410174224903291, 0.14827309894071408, 0.3307630668677468, 0.06082998930901091, 0.02281124599087909, 0.9339855872722372, 0.8198305573160992, 0.7430660349740318, 0.9034241998221026, 0.008567465746933843, 0.9595561636565904, 0.017134931493867685, 0.017134931493867685, 0.027427303040727897, 0.8502463942625649, 0.0822819091221837, 0.027427303040727897, 0.027427303040727897, 0.9176064828024324, 0.036704259312097295, 0.3692119716681982, 0.3117789982975896, 0.26665309064925424, 0.04512590764833534, 0.008204710481515515, 0.9449154760646176, 0.8901418873969705, 0.36792079157957724, 0.05049893217758903, 0.5266317212805713, 0.036070665841135024, 0.021642399504681015, 0.8905290239832435, 0.9749899929135116, 0.8900087590734723, 0.15804913498700573, 0.7112211074415258, 0.07902456749350287, 0.8721349562073537, 0.032301294674346434, 0.0969038840230393, 0.016150647337173217, 0.47599864902784933, 0.4123846372695648, 0.2749230915130432, 0.2749230915130432, 0.30437731454201644, 0.21915166647025183, 0.462653518103865, 0.906695667156717, 0.7996816570586806, 0.07056014621106005, 0.11760024368510008, 0.011760024368510008, 0.6714144178859435, 0.21063981737598225, 0.09215492010199224, 0.01316498858599889, 0.006582494292999445, 0.865814769296461, 0.010558716698737328, 0.10558716698737329, 0.010558716698737328, 0.9019520256216463, 0.08744731818356, 0.795770595470396, 0.052468390910136, 0.052468390910136, 0.017489463636712, 0.8894333545577392, 0.5548058945806339, 0.42766287707257195, 0.011558456137096539, 0.022339512317889044, 0.6255063449008932, 0.022339512317889044, 0.2904136601325576, 0.04467902463577809, 0.9788701668909933, 0.9089056093220563, 0.06991581610169664, 0.17973347935310993, 0.17973347935310993, 0.17973347935310993, 0.410819381378537, 0.025676211336158564, 0.2612915343980431, 0.4038141895242484, 0.27554379991066363, 0.023753775854367554, 0.03325528619611458, 0.4760051980232331, 0.3148931618370519, 0.42735500535028476, 0.08996947481058626, 0.0674771061079397, 0.08996947481058626, 0.2328966303397943, 0.2328966303397943, 0.4657932606795886, 0.9267897761469427, 0.058511671858021586, 0.5997446365447212, 0.14627917964505396, 0.18284897455631746, 0.007313958982252698, 0.7852404542569538, 0.03059378393208911, 0.14277099168308252, 0.010197927977363037, 0.03059378393208911, 0.6176087804686601, 0.6895429073420145, 0.05507869613177382, 0.19383464215605017, 0.028598553760728715, 0.033894582234937735, 0.8063595916408413, 0.03313806540989759, 0.08836817442639357, 0.05523010901649598, 0.011046021803299196, 0.8503862185030956, 0.05798087853430198, 0.09663479755716996, 0.6822382081301636, 0.013509667487726012, 0.29721268472997225, 0.006754833743863006, 0.006754833743863006, 0.44811831855369416, 0.3662638888488398, 0.14983522725634354, 0.03190935395273983, 0.0041620896460095435, 0.8828456679369863, 0.8654375480380349, 0.14423959133967248, 0.4759871263620218, 0.8860255267717768, 0.6176929523050364, 0.9507645574040161, 0.4294214645268282, 0.11133149080325176, 0.2862809763512188, 0.07952249343089411, 0.09542699211707294, 0.9546686322595016, 0.4759931475564074, 0.957514731034588, 0.9195764721703441, 0.8925465061650045, 0.1275066437378578, 0.7643265412330763, 0.0516436852184511, 0.1446023186116631, 0.03098621113107066, 0.010328737043690221, 0.907526656006808, 0.9044377283739472, 0.04111080583517942, 0.02055540291758971, 0.04111080583517942, 0.37334922149203237, 0.3759064079406079, 0.21736084812892295, 0.023014678037180075, 0.010228745794302257, 0.20105608574284178, 0.6031682572285254, 0.08693054001335038, 0.20283792669781753, 0.6374906267645694, 0.05795369334223358, 0.06500723567817365, 0.5525615032644761, 0.1300144713563473, 0.1300144713563473, 0.1300144713563473, 0.8197842795026549, 0.9797272853470133, 0.74593906318274, 0.9210246870207991, 0.040934430534257736, 0.020467215267128868, 0.9889296011723742, 0.924509747624113, 0.9423463740103731, 0.9286427600729784, 0.8199125819665045, 0.357643236217847, 0.5007005307049858, 0.11921441207261566, 0.023842882414523134, 0.9518472741432408, 0.01871613124912714, 0.804793643712467, 0.05614839374738142, 0.03743226249825428, 0.09358065624563569, 0.9760647913205348, 0.04098000116761817, 0.7649600217955392, 0.16392000467047269, 0.027320000778412113, 0.013660000389206057, 0.8310912023084863, 0.07842838621268533, 0.7179213814853503, 0.07239543342709416, 0.1206590557118236, 0.01206590557118236, 0.4123249393461699, 0.35415461595293435, 0.20017434814731072, 0.02224159423859008, 0.011976243051548504, 0.029744778400038745, 0.7988597627438977, 0.06373881085722588, 0.08498508114296785, 0.025495524342890354, 0.232204285647432, 0.3715268570358912, 0.135452499961002, 0.24381449992980359, 0.019350357137286, 0.10176605597254187, 0.6962940671805496, 0.14461492164519107, 0.04284886567264921, 0.010712216418162302, 0.46503383070225957, 0.31378496343501977, 0.15237759015729377, 0.05869359028280945, 0.010158506010486252, 0.47607985993057433, 0.47600827814748414, 0.8312437796865821, 0.931202463581689, 0.8719294184482692, 0.928497502193598, 0.47600913448860444, 0.4759744176496449, 0.8909321764957355, 0.1272760252136765, 0.7562533602655707, 0.12593987474773988, 0.5638671664841991, 0.18032300247971847, 0.09731717594143537, 0.03148496868693497, 0.9200374421112926, 0.8857402590471709, 0.12186526596377181, 0.8530568617464027, 0.9346577023872469, 0.4286780575576269, 0.32983238894603817, 0.17896268422308695, 0.05306451683358974, 0.008323845777817997, 0.47596547698750635, 0.734598933177662, 0.3490562272561918, 0.6981124545123836, 0.01833461848686874, 0.6875481932575778, 0.00916730924343437, 0.2750192773030311, 0.00916730924343437, 0.1709475276381584, 0.6112669170091725, 0.1709475276381584, 0.046622052992225015, 0.47597437440291657, 0.48500723943340573, 0.04490807772531535, 0.40417269952783813, 0.06287130881544148, 0.3226379445221589, 0.40329743065269863, 0.15398629170375766, 0.07332680557321794, 0.03666340278660897, 0.8859392897239858, 0.690437281692316, 0.18369432265208407, 0.10768287879604929, 0.0190028609640087, 0.952833633767711, 0.9400006589445483, 0.734615121112329, 0.2031019415906237, 0.27080258878749824, 0.4062038831812474, 0.06770064719687456, 0.05416051775749965, 0.8736122004323386, 0.02730038126351058, 0.02730038126351058, 0.05460076252702116, 0.7679207116629587, 0.2651280771190391, 0.47261961573393924, 0.16138230781158902, 0.03458192310248336, 0.05763653850413893, 0.7950515577342417, 0.027104030377303693, 0.08131209113191108, 0.07227741433947651, 0.01806935358486913, 0.31559617345942703, 0.4748158645740929, 0.11372835079618993, 0.07960984555733294, 0.017059252619428488, 0.8369689371582216, 0.8951557092571932, 0.8843592342709886], \"Term\": [\"advis\", \"advis\", \"advis\", \"advis\", \"advis\", \"af\", \"aircraft\", \"aircraft\", \"aircraft\", \"aircraft\", \"airlin\", \"airlin\", \"airlin\", \"airlin\", \"airlin\", \"airport\", \"airport\", \"airport\", \"airport\", \"airport\", \"airway\", \"airway\", \"airway\", \"airway\", \"airway\", \"alaska\", \"alloc\", \"alloc\", \"alloc\", \"alloc\", \"alloc\", \"am\", \"am\", \"america\", \"america\", \"america\", \"answer\", \"answer\", \"answer\", \"answer\", \"apologet\", \"app\", \"app\", \"app\", \"app\", \"app\", \"appli\", \"appli\", \"appli\", \"arriv\", \"arriv\", \"arriv\", \"arriv\", \"arriv\", \"ask\", \"ask\", \"ask\", \"ask\", \"ask\", \"attent\", \"attent\", \"attent\", \"au\", \"auch\", \"august\", \"august\", \"august\", \"autom\", \"autom\", \"autom\", \"averag\", \"averag\", \"ba\", \"ba\", \"ba\", \"ba\", \"ba\", \"back\", \"back\", \"back\", \"back\", \"back\", \"bag\", \"bag\", \"bag\", \"bag\", \"bag\", \"bank\", \"bed\", \"berlin\", \"berlin\", \"besid\", \"besid\", \"board\", \"board\", \"board\", \"board\", \"board\", \"boe\", \"boe\", \"book\", \"book\", \"book\", \"book\", \"book\", \"breakfast\", \"breakfast\", \"breakfast\", \"brexit\", \"british\", \"british\", \"british\", \"british\", \"british\", \"broken\", \"broken\", \"broken\", \"broken\", \"bubbl\", \"bulli\", \"busi\", \"busi\", \"busi\", \"busi\", \"busi\", \"cabin\", \"cabin\", \"cabin\", \"cabin\", \"cabin\", \"call\", \"call\", \"call\", \"call\", \"call\", \"cancel\", \"cancel\", \"cancel\", \"cancel\", \"cancel\", \"car\", \"cater\", \"cater\", \"cdg\", \"cdg\", \"challeng\", \"challeng\", \"challeng\", \"chang\", \"chang\", \"chang\", \"chang\", \"check\", \"check\", \"check\", \"check\", \"check\", \"child\", \"child\", \"child\", \"ciara\", \"ck\", \"claim\", \"claim\", \"claim\", \"claim\", \"class\", \"class\", \"class\", \"class\", \"class\", \"cloth\", \"cloth\", \"club\", \"club\", \"club\", \"club\", \"club\", \"clueless\", \"clueless\", \"coffe\", \"coffe\", \"coffe\", \"comfort\", \"comfort\", \"comfort\", \"commerci\", \"commerci\", \"compel\", \"configur\", \"confirm\", \"confirm\", \"connect\", \"connect\", \"connect\", \"connect\", \"connect\", \"connexion\", \"consum\", \"conveni\", \"cot\", \"could\", \"could\", \"could\", \"could\", \"could\", \"countri\", \"cousin\", \"cramp\", \"cramp\", \"cramp\", \"cream\", \"crew\", \"crew\", \"crew\", \"crew\", \"crew\", \"cri\", \"cri\", \"cri\", \"custom\", \"custom\", \"custom\", \"custom\", \"custom\", \"day\", \"day\", \"day\", \"day\", \"day\", \"dealt\", \"dealt\", \"dealt\", \"debacl\", \"decid\", \"decid\", \"decid\", \"decid\", \"decid\", \"deck\", \"deck\", \"deck\", \"delay\", \"delay\", \"delay\", \"delay\", \"delay\", \"desir\", \"diego\", \"diego\", \"difficulti\", \"dirti\", \"dirti\", \"dirti\", \"divert\", \"divert\", \"drink\", \"drink\", \"drink\", \"drink\", \"dubrovnik\", \"dump\", \"easyjet\", \"easyjet\", \"easyjet\", \"eaten\", \"economi\", \"economi\", \"economi\", \"economi\", \"economi\", \"edream\", \"elit\", \"email\", \"email\", \"email\", \"email\", \"email\", \"employe\", \"enabl\", \"entertain\", \"entertain\", \"entertain\", \"excel\", \"excel\", \"excel\", \"experi\", \"experi\", \"experi\", \"experi\", \"experi\", \"featur\", \"fee\", \"fee\", \"fee\", \"fellow\", \"fellow\", \"felt\", \"felt\", \"felt\", \"felt\", \"felt\", \"fi\", \"file\", \"file\", \"film\", \"financi\", \"finish\", \"finish\", \"finish\", \"finish\", \"first\", \"first\", \"first\", \"first\", \"first\", \"fli\", \"fli\", \"fli\", \"fli\", \"flight\", \"flight\", \"flight\", \"flight\", \"flight\", \"flower\", \"flug\", \"flughafen\", \"food\", \"food\", \"food\", \"food\", \"food\", \"fruit\", \"galleri\", \"galleri\", \"gate\", \"gate\", \"gate\", \"gate\", \"gate\", \"gep\", \"get\", \"get\", \"get\", \"get\", \"get\", \"go\", \"go\", \"go\", \"go\", \"go\", \"golf\", \"good\", \"good\", \"good\", \"good\", \"good\", \"got\", \"got\", \"got\", \"got\", \"great\", \"great\", \"great\", \"great\", \"great\", \"guess\", \"guess\", \"guess\", \"haben\", \"hall\", \"hall\", \"haul\", \"haul\", \"haul\", \"health\", \"heathrow\", \"heathrow\", \"heathrow\", \"heathrow\", \"help\", \"help\", \"help\", \"help\", \"help\", \"henc\", \"highli\", \"homeward\", \"honor\", \"hotel\", \"hotel\", \"hour\", \"hour\", \"hour\", \"hour\", \"hour\", \"hung\", \"ife\", \"ife\", \"im\", \"improv\", \"improv\", \"improv\", \"increas\", \"increas\", \"increas\", \"inflight\", \"inflight\", \"inflight\", \"juic\", \"juic\", \"juli\", \"kalamata\", \"kid\", \"kid\", \"kid\", \"kid\", \"land\", \"land\", \"land\", \"land\", \"late\", \"late\", \"late\", \"late\", \"layov\", \"layov\", \"legal\", \"letter\", \"letzten\", \"lhr\", \"lhr\", \"lhr\", \"lhr\", \"lhr\", \"lock\", \"lock\", \"lock\", \"lodg\", \"london\", \"london\", \"london\", \"london\", \"london\", \"lost\", \"lost\", \"lost\", \"loung\", \"loung\", \"loung\", \"loung\", \"loung\", \"lufthansa\", \"luggag\", \"luggag\", \"luggag\", \"luggag\", \"luggag\", \"mail\", \"mail\", \"mail\", \"make\", \"make\", \"make\", \"make\", \"make\", \"malaga\", \"malaga\", \"malaga\", \"malpensa\", \"manchest\", \"manchest\", \"meal\", \"meal\", \"meal\", \"meal\", \"member\", \"member\", \"member\", \"member\", \"member\", \"milan\", \"milan\", \"min\", \"min\", \"min\", \"min\", \"minut\", \"minut\", \"minut\", \"minut\", \"misconnect\", \"miss\", \"miss\", \"miss\", \"miss\", \"miss\", \"mit\", \"month\", \"month\", \"month\", \"month\", \"month\", \"movi\", \"movi\", \"movi\", \"nassau\", \"nervou\", \"nose\", \"notif\", \"number\", \"number\", \"number\", \"number\", \"number\", \"offer\", \"offer\", \"offer\", \"offer\", \"offer\", \"old\", \"old\", \"old\", \"old\", \"old\", \"one\", \"one\", \"one\", \"one\", \"one\", \"overal\", \"overal\", \"overal\", \"overal\", \"overal\", \"overhead\", \"overhead\", \"paid\", \"paid\", \"paid\", \"paid\", \"paid\", \"partner\", \"partner\", \"partner\", \"partner\", \"pass\", \"pass\", \"pass\", \"pass\", \"pass\", \"passeng\", \"passeng\", \"passeng\", \"passeng\", \"passeng\", \"pastri\", \"payabl\", \"penalti\", \"perform\", \"phone\", \"phone\", \"phone\", \"phone\", \"pick\", \"pick\", \"pick\", \"pick\", \"pick\", \"pillow\", \"pillow\", \"plane\", \"plane\", \"plane\", \"plane\", \"plane\", \"plate\", \"prais\", \"premium\", \"premium\", \"premium\", \"premium\", \"premium\", \"pretend\", \"privaci\", \"pro\", \"procedur\", \"procedur\", \"procedur\", \"product\", \"product\", \"product\", \"product\", \"puerto\", \"purpos\", \"purpos\", \"purpos\", \"queue\", \"queue\", \"queue\", \"quieter\", \"quit\", \"quit\", \"quit\", \"quit\", \"realli\", \"realli\", \"realli\", \"realli\", \"realli\", \"rebook\", \"rebook\", \"rebook\", \"rebook\", \"receipt\", \"receiv\", \"receiv\", \"receiv\", \"receiv\", \"receiv\", \"refit\", \"refund\", \"refund\", \"refund\", \"refus\", \"refus\", \"refus\", \"refus\", \"refus\", \"reimburs\", \"reschedul\", \"reschedul\", \"reserv\", \"reserv\", \"reserv\", \"reserv\", \"reserv\", \"return\", \"return\", \"return\", \"return\", \"return\", \"rico\", \"rude\", \"rude\", \"rude\", \"rude\", \"rude\", \"ruin\", \"ruin\", \"ruin\", \"sa\", \"said\", \"said\", \"said\", \"said\", \"said\", \"screen\", \"screen\", \"screen\", \"screen\", \"screen\", \"seal\", \"seat\", \"seat\", \"seat\", \"seat\", \"seat\", \"select\", \"select\", \"select\", \"select\", \"select\", \"sent\", \"sent\", \"sent\", \"serv\", \"serv\", \"serv\", \"serv\", \"serv\", \"servic\", \"servic\", \"servic\", \"servic\", \"servic\", \"shambol\", \"shout\", \"shout\", \"sie\", \"signific\", \"sir\", \"sister\", \"sit\", \"sit\", \"sit\", \"sit\", \"sit\", \"site\", \"sitzen\", \"size\", \"slept\", \"slot\", \"slot\", \"small\", \"small\", \"small\", \"small\", \"small\", \"sofia\", \"speak\", \"speak\", \"speak\", \"speak\", \"staff\", \"staff\", \"staff\", \"staff\", \"staff\", \"stale\", \"stale\", \"start\", \"start\", \"start\", \"start\", \"state\", \"state\", \"state\", \"state\", \"state\", \"stirrer\", \"style\", \"sugar\", \"suit\", \"suit\", \"suit\", \"suitcas\", \"sunday\", \"superior\", \"swiss\", \"switzerland\", \"tea\", \"tea\", \"tea\", \"tea\", \"telephon\", \"tell\", \"tell\", \"tell\", \"tell\", \"tell\", \"test\", \"th\", \"th\", \"th\", \"th\", \"th\", \"thru\", \"ticket\", \"ticket\", \"ticket\", \"ticket\", \"ticket\", \"time\", \"time\", \"time\", \"time\", \"time\", \"told\", \"told\", \"told\", \"told\", \"told\", \"travel\", \"travel\", \"travel\", \"travel\", \"travel\", \"tri\", \"tri\", \"tri\", \"tri\", \"tri\", \"trip\", \"trip\", \"trip\", \"trip\", \"trip\", \"tsa\", \"tung\", \"turkish\", \"twitter\", \"und\", \"unfair\", \"unser\", \"unseren\", \"upload\", \"upload\", \"upstair\", \"us\", \"us\", \"us\", \"us\", \"us\", \"usb\", \"vacat\", \"vaccin\", \"vaccin\", \"veget\", \"verifi\", \"verifi\", \"verifi\", \"verifi\", \"verifi\", \"verpassen\", \"versp\", \"vod\", \"vod\", \"voucher\", \"voucher\", \"voucher\", \"voucher\", \"voucher\", \"wait\", \"wait\", \"wait\", \"wait\", \"war\", \"water\", \"water\", \"water\", \"water\", \"way\", \"way\", \"way\", \"way\", \"way\", \"web\", \"well\", \"well\", \"well\", \"well\", \"wi\", \"width\", \"wieder\", \"wife\", \"wife\", \"wife\", \"wife\", \"wife\", \"window\", \"window\", \"window\", \"window\", \"wir\", \"without\", \"without\", \"without\", \"without\", \"without\", \"world\", \"world\", \"world\", \"world\", \"world\", \"would\", \"would\", \"would\", \"would\", \"would\", \"wt\", \"zrh\", \"zurich\"]}, \"R\": 30, \"lambda.step\": 0.01, \"plot.opts\": {\"xlab\": \"PC1\", \"ylab\": \"PC2\"}, \"topic.order\": [2, 3, 1, 4, 5]};\n",
       "\n",
       "function LDAvis_load_lib(url, callback){\n",
       "  var s = document.createElement('script');\n",
       "  s.src = url;\n",
       "  s.async = true;\n",
       "  s.onreadystatechange = s.onload = callback;\n",
       "  s.onerror = function(){console.warn(\"failed to load library \" + url);};\n",
       "  document.getElementsByTagName(\"head\")[0].appendChild(s);\n",
       "}\n",
       "\n",
       "if(typeof(LDAvis) !== \"undefined\"){\n",
       "   // already loaded: just create the visualization\n",
       "   !function(LDAvis){\n",
       "       new LDAvis(\"#\" + \"ldavis_el508016896711009929345796054\", ldavis_el508016896711009929345796054_data);\n",
       "   }(LDAvis);\n",
       "}else if(typeof define === \"function\" && define.amd){\n",
       "   // require.js is available: use it to load d3/LDAvis\n",
       "   require.config({paths: {d3: \"https://d3js.org/d3.v5\"}});\n",
       "   require([\"d3\"], function(d3){\n",
       "      window.d3 = d3;\n",
       "      LDAvis_load_lib(\"https://cdn.jsdelivr.net/gh/bmabey/pyLDAvis@3.4.0/pyLDAvis/js/ldavis.v3.0.0.js\", function(){\n",
       "        new LDAvis(\"#\" + \"ldavis_el508016896711009929345796054\", ldavis_el508016896711009929345796054_data);\n",
       "      });\n",
       "    });\n",
       "}else{\n",
       "    // require.js not available: dynamically load d3 & LDAvis\n",
       "    LDAvis_load_lib(\"https://d3js.org/d3.v5.js\", function(){\n",
       "         LDAvis_load_lib(\"https://cdn.jsdelivr.net/gh/bmabey/pyLDAvis@3.4.0/pyLDAvis/js/ldavis.v3.0.0.js\", function(){\n",
       "                 new LDAvis(\"#\" + \"ldavis_el508016896711009929345796054\", ldavis_el508016896711009929345796054_data);\n",
       "            })\n",
       "         });\n",
       "}\n",
       "</script>"
      ],
      "text/plain": [
       "<IPython.core.display.HTML object>"
      ]
     },
     "execution_count": 23,
     "metadata": {},
     "output_type": "execute_result"
    }
   ],
   "source": [
    "# Visualize Topics\n",
    "vis_data = gensimvis.prepare(lda_model, corpus, dictionary)\n",
    "pyLDAvis.display(vis_data)"
   ]
  },
  {
   "cell_type": "code",
   "execution_count": null,
   "metadata": {},
   "outputs": [],
   "source": []
  },
  {
   "cell_type": "code",
   "execution_count": null,
   "metadata": {},
   "outputs": [],
   "source": []
  }
 ],
 "metadata": {
  "kernelspec": {
   "display_name": "Python 3.9.13 ('venv': venv)",
   "language": "python",
   "name": "python3"
  },
  "language_info": {
   "codemirror_mode": {
    "name": "ipython",
    "version": 3
   },
   "file_extension": ".py",
   "mimetype": "text/x-python",
   "name": "python",
   "nbconvert_exporter": "python",
   "pygments_lexer": "ipython3",
   "version": "3.10.4"
  },
  "orig_nbformat": 4,
  "vscode": {
   "interpreter": {
    "hash": "4f7924c4c56b083e0e50eadfe7ef592a7a8ef70df33a0047f82280e6be1afe15"
   }
  }
 },
 "nbformat": 4,
 "nbformat_minor": 2
}
